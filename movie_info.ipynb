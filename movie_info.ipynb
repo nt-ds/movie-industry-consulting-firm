{
 "cells": [
  {
   "cell_type": "code",
   "execution_count": 1,
   "metadata": {},
   "outputs": [],
   "source": [
    "%matplotlib inline\n",
    "\n",
    "import pandas as pd\n",
    "import seaborn as sns\n",
    "import matplotlib.pyplot as plt\n",
    "\n",
    "sns.set_style(\"whitegrid\")"
   ]
  },
  {
   "cell_type": "code",
   "execution_count": 2,
   "metadata": {},
   "outputs": [
    {
     "data": {
      "text/html": [
       "<div>\n",
       "<style scoped>\n",
       "    .dataframe tbody tr th:only-of-type {\n",
       "        vertical-align: middle;\n",
       "    }\n",
       "\n",
       "    .dataframe tbody tr th {\n",
       "        vertical-align: top;\n",
       "    }\n",
       "\n",
       "    .dataframe thead th {\n",
       "        text-align: right;\n",
       "    }\n",
       "</style>\n",
       "<table border=\"1\" class=\"dataframe\">\n",
       "  <thead>\n",
       "    <tr style=\"text-align: right;\">\n",
       "      <th></th>\n",
       "      <th>id</th>\n",
       "      <th>synopsis</th>\n",
       "      <th>rating</th>\n",
       "      <th>genre</th>\n",
       "      <th>director</th>\n",
       "      <th>writer</th>\n",
       "      <th>theater_date</th>\n",
       "      <th>dvd_date</th>\n",
       "      <th>currency</th>\n",
       "      <th>box_office</th>\n",
       "      <th>runtime</th>\n",
       "      <th>studio</th>\n",
       "    </tr>\n",
       "  </thead>\n",
       "  <tbody>\n",
       "    <tr>\n",
       "      <th>0</th>\n",
       "      <td>1</td>\n",
       "      <td>This gritty, fast-paced, and innovative police...</td>\n",
       "      <td>R</td>\n",
       "      <td>Action and Adventure|Classics|Drama</td>\n",
       "      <td>William Friedkin</td>\n",
       "      <td>Ernest Tidyman</td>\n",
       "      <td>Oct 9, 1971</td>\n",
       "      <td>Sep 25, 2001</td>\n",
       "      <td>NaN</td>\n",
       "      <td>NaN</td>\n",
       "      <td>104 minutes</td>\n",
       "      <td>NaN</td>\n",
       "    </tr>\n",
       "    <tr>\n",
       "      <th>1</th>\n",
       "      <td>3</td>\n",
       "      <td>New York City, not-too-distant-future: Eric Pa...</td>\n",
       "      <td>R</td>\n",
       "      <td>Drama|Science Fiction and Fantasy</td>\n",
       "      <td>David Cronenberg</td>\n",
       "      <td>David Cronenberg|Don DeLillo</td>\n",
       "      <td>Aug 17, 2012</td>\n",
       "      <td>Jan 1, 2013</td>\n",
       "      <td>$</td>\n",
       "      <td>600,000</td>\n",
       "      <td>108 minutes</td>\n",
       "      <td>Entertainment One</td>\n",
       "    </tr>\n",
       "    <tr>\n",
       "      <th>2</th>\n",
       "      <td>5</td>\n",
       "      <td>Illeana Douglas delivers a superb performance ...</td>\n",
       "      <td>R</td>\n",
       "      <td>Drama|Musical and Performing Arts</td>\n",
       "      <td>Allison Anders</td>\n",
       "      <td>Allison Anders</td>\n",
       "      <td>Sep 13, 1996</td>\n",
       "      <td>Apr 18, 2000</td>\n",
       "      <td>NaN</td>\n",
       "      <td>NaN</td>\n",
       "      <td>116 minutes</td>\n",
       "      <td>NaN</td>\n",
       "    </tr>\n",
       "    <tr>\n",
       "      <th>3</th>\n",
       "      <td>6</td>\n",
       "      <td>Michael Douglas runs afoul of a treacherous su...</td>\n",
       "      <td>R</td>\n",
       "      <td>Drama|Mystery and Suspense</td>\n",
       "      <td>Barry Levinson</td>\n",
       "      <td>Paul Attanasio|Michael Crichton</td>\n",
       "      <td>Dec 9, 1994</td>\n",
       "      <td>Aug 27, 1997</td>\n",
       "      <td>NaN</td>\n",
       "      <td>NaN</td>\n",
       "      <td>128 minutes</td>\n",
       "      <td>NaN</td>\n",
       "    </tr>\n",
       "    <tr>\n",
       "      <th>4</th>\n",
       "      <td>7</td>\n",
       "      <td>NaN</td>\n",
       "      <td>NR</td>\n",
       "      <td>Drama|Romance</td>\n",
       "      <td>Rodney Bennett</td>\n",
       "      <td>Giles Cooper</td>\n",
       "      <td>NaN</td>\n",
       "      <td>NaN</td>\n",
       "      <td>NaN</td>\n",
       "      <td>NaN</td>\n",
       "      <td>200 minutes</td>\n",
       "      <td>NaN</td>\n",
       "    </tr>\n",
       "  </tbody>\n",
       "</table>\n",
       "</div>"
      ],
      "text/plain": [
       "   id                                           synopsis rating  \\\n",
       "0   1  This gritty, fast-paced, and innovative police...      R   \n",
       "1   3  New York City, not-too-distant-future: Eric Pa...      R   \n",
       "2   5  Illeana Douglas delivers a superb performance ...      R   \n",
       "3   6  Michael Douglas runs afoul of a treacherous su...      R   \n",
       "4   7                                                NaN     NR   \n",
       "\n",
       "                                 genre          director  \\\n",
       "0  Action and Adventure|Classics|Drama  William Friedkin   \n",
       "1    Drama|Science Fiction and Fantasy  David Cronenberg   \n",
       "2    Drama|Musical and Performing Arts    Allison Anders   \n",
       "3           Drama|Mystery and Suspense    Barry Levinson   \n",
       "4                        Drama|Romance    Rodney Bennett   \n",
       "\n",
       "                            writer  theater_date      dvd_date currency  \\\n",
       "0                   Ernest Tidyman   Oct 9, 1971  Sep 25, 2001      NaN   \n",
       "1     David Cronenberg|Don DeLillo  Aug 17, 2012   Jan 1, 2013        $   \n",
       "2                   Allison Anders  Sep 13, 1996  Apr 18, 2000      NaN   \n",
       "3  Paul Attanasio|Michael Crichton   Dec 9, 1994  Aug 27, 1997      NaN   \n",
       "4                     Giles Cooper           NaN           NaN      NaN   \n",
       "\n",
       "  box_office      runtime             studio  \n",
       "0        NaN  104 minutes                NaN  \n",
       "1    600,000  108 minutes  Entertainment One  \n",
       "2        NaN  116 minutes                NaN  \n",
       "3        NaN  128 minutes                NaN  \n",
       "4        NaN  200 minutes                NaN  "
      ]
     },
     "execution_count": 2,
     "metadata": {},
     "output_type": "execute_result"
    }
   ],
   "source": [
    "df = pd.read_csv(\"data/rt.movie_info.tsv.gz\", delimiter=\"\\t\")\n",
    "df.head()"
   ]
  },
  {
   "cell_type": "code",
   "execution_count": 3,
   "metadata": {},
   "outputs": [
    {
     "name": "stdout",
     "output_type": "stream",
     "text": [
      "<class 'pandas.core.frame.DataFrame'>\n",
      "RangeIndex: 1560 entries, 0 to 1559\n",
      "Data columns (total 12 columns):\n",
      "id              1560 non-null int64\n",
      "synopsis        1498 non-null object\n",
      "rating          1557 non-null object\n",
      "genre           1552 non-null object\n",
      "director        1361 non-null object\n",
      "writer          1111 non-null object\n",
      "theater_date    1201 non-null object\n",
      "dvd_date        1201 non-null object\n",
      "currency        340 non-null object\n",
      "box_office      340 non-null object\n",
      "runtime         1530 non-null object\n",
      "studio          494 non-null object\n",
      "dtypes: int64(1), object(11)\n",
      "memory usage: 146.3+ KB\n"
     ]
    }
   ],
   "source": [
    "df.info()"
   ]
  },
  {
   "cell_type": "code",
   "execution_count": 4,
   "metadata": {},
   "outputs": [
    {
     "data": {
      "text/plain": [
       "array(['R', 'NR', 'PG', 'PG-13', nan, 'G', 'NC17'], dtype=object)"
      ]
     },
     "execution_count": 4,
     "metadata": {},
     "output_type": "execute_result"
    }
   ],
   "source": [
    "df.rating.unique()"
   ]
  },
  {
   "cell_type": "code",
   "execution_count": 5,
   "metadata": {},
   "outputs": [
    {
     "data": {
      "text/plain": [
       "3"
      ]
     },
     "execution_count": 5,
     "metadata": {},
     "output_type": "execute_result"
    }
   ],
   "source": [
    "df.rating.isna().sum()"
   ]
  },
  {
   "cell_type": "code",
   "execution_count": 6,
   "metadata": {},
   "outputs": [
    {
     "data": {
      "text/plain": [
       "array([nan, '$'], dtype=object)"
      ]
     },
     "execution_count": 6,
     "metadata": {},
     "output_type": "execute_result"
    }
   ],
   "source": [
    "df.currency.unique()"
   ]
  },
  {
   "cell_type": "code",
   "execution_count": 7,
   "metadata": {},
   "outputs": [
    {
     "data": {
      "text/plain": [
       "array([nan, '600,000', '41,032,915', '224,114', '134,904', '1,039,869',\n",
       "       '99,165,609', '20,518,224', '1,971,135', '312,136', '201,010',\n",
       "       '132,088,910', '54,100,000', '127,706,877', '10,880,926',\n",
       "       '10,706,786', '35,565,975', '4,806,750', '5,051,927', '93,300,000',\n",
       "       '1,000,000', '42,929,971', '13,248,477', '64,001,297', '2,974,308',\n",
       "       '37,431,431', '22,715,908', '67,771,442', '19,755,422',\n",
       "       '73,023,275', '4,007,792', '1,626,289', '3,998,889', '12,533,911',\n",
       "       '2,839,256', '128,579,698', '5,205,343', '54,983,983',\n",
       "       '21,318,194', '84,293', '8,518,148', '12,583,510', '35,000,629',\n",
       "       '976,847', '37,331,031', '145,778', '63,400,000', '7,009,668',\n",
       "       '80,574,010', '47,781,388', '5,600,000', '200,000', '134,455,175',\n",
       "       '25,957,696', '3,200,000', '308,164', '32,741,596', '15,986,272',\n",
       "       '13,710,572', '4,756,532', '42,194,060', '347,321', '7,366,736',\n",
       "       '8,134,217', '72,266,306', '419,361', '1,341,151', '2,839,456',\n",
       "       '121,500,000', '154,485,963', '54,132,596', '24,967,943',\n",
       "       '46,982,632', '55,400,000', '2,536,460', '39,697,363', '2,367',\n",
       "       '140,901', '21,379,315', '292,923', '480,926', '126,597,121',\n",
       "       '1,231,550', '82,468,131', '44,478,018', '1,300,000', '2,209,479',\n",
       "       '6,426,953', '2,586,310', '21,254,983', '10,500,000', '32,000,000',\n",
       "       '114,053,579', '104,880,310', '35,764,982', '17,364,602',\n",
       "       '14,037,964', '26,800,000', '598,103', '67,631,157', '88,800,000',\n",
       "       '22,099', '12,610,731', '8,874,389', '529,426', '2,664,765',\n",
       "       '241,250,669', '107,506,776', '10,572,742', '52,277,485',\n",
       "       '1,800,000', '300,000', '15,687,400', '6,100,613', '63,883,740',\n",
       "       '54,218,420', '175,088', '19,375,474', '15,425,870', '38,200,000',\n",
       "       '2,365,931', '231,512', '52,000,189', '102,981,571', '14,443,077',\n",
       "       '4,900,000', '1,940,202', '39,712', '14,400,987', '22,877,808',\n",
       "       '25,077,977', '700,000', '234,141,872', '1,616,556', '465,786',\n",
       "       '27,503,677', '1,736,708', '25,658', '75,604,320', '13,900,000',\n",
       "       '15,988,876', '453,079', '279,167,575', '8,300', '13,351,235',\n",
       "       '3,328', '19,000,000', '16,302,332', '1,688,620', '3,752,818',\n",
       "       '89,602,378', '519,730', '301,194', '104,286', '12,711,889',\n",
       "       '4,519,967', '28,031,250', '34,187,787', '31,155,435',\n",
       "       '36,800,000', '30,212,620', '42,500,000', '3,014,541',\n",
       "       '53,021,560', '127,490,802', '105,765,605', '1,566,027',\n",
       "       '1,110,286', '948,054', '368,000,000', '45,299,680', '1,634,064',\n",
       "       '44,667,095', '406,235', '82,989,109', '15,176,515', '466,986',\n",
       "       '723,714', '115,088,305', '35,966', '303,001,229', '64,209,101',\n",
       "       '252,018', '10,127,352', '15,655,665', '1,569,618', '116,783',\n",
       "       '18,356,529', '20,467,547', '4,300,353', '8,616,662', '71,844,424',\n",
       "       '44,566,004', '3,900,000', '43,800,000', '262,586', '118,683,135',\n",
       "       '709,133', '541,457', '9,500,000', '18,013,938', '67,169,549',\n",
       "       '257,704,099', '3,349,167', '363', '11,827,301', '793,352',\n",
       "       '63,595', '16,614,132', '146,336,178', '20,433,940', '3,596,939',\n",
       "       '190,871,149', '72,601,713', '6,002,708', '93,008,426',\n",
       "       '116,638,030', '22,838,662', '5,696,752', '320,676', '7,156,725',\n",
       "       '5,617,321', '10,279,192', '81,110,575', '13,432,508',\n",
       "       '15,504,419', '109,176,215', '148,734,225', '66,580,191',\n",
       "       '6,515,869', '1,121,000', '13,985,117', '106,604,314',\n",
       "       '13,737,564', '73,058,679', '42,168,445', '261,835,892',\n",
       "       '164,454,835', '3,185,193', '29,885,424', '7,518,962',\n",
       "       '19,548,064', '2,021,399', '109,257', '13,592,311', '586,242',\n",
       "       '102,515,793', '57,000,000', '13,155,823', '119,000,000',\n",
       "       '37,442,180', '20,218,921', '27,696,504', '299,300,000',\n",
       "       '14,244,145', '5,851,913', '127,083,765', '39,418,953',\n",
       "       '31,670,931', '707,672', '2,027,042', '4,683,159', '33,408,732',\n",
       "       '1,149,350', '1,260,219', '3,400,000', '177,575,142', '53,100,000',\n",
       "       '463,914', '40,632,110', '214,813,155', '123,188,232', '4,894,004',\n",
       "       '241,672', '20,900,803', '1,626,909', '10,928,042', '8,856',\n",
       "       '33,200,000', '26,973,524', '11,348,612', '1,526,248',\n",
       "       '13,630,226', '41,407,470', '101,368', '35,003,216', '15,133,185',\n",
       "       '38,120,554', '549,351', '176,049,130', '18,472,363', '95,111,012',\n",
       "       '81,157,671', '14,260,193', '209,805,005', '12,900,000', '16,632',\n",
       "       '13,617,501', '4,436,352', '74,223,625', '39,532,308', '4,341,275',\n",
       "       '9,404,922', '2,500,000', '18,173,360', '410,077', '2,395,410',\n",
       "       '18,602,895', '118,253', '32,700,000', '15,536,310', '34,600,000',\n",
       "       '8,888,355', '9,262,318', '227,946,274', '90,672,025',\n",
       "       '97,661,826', '72,413', '58,255,287', '766,428', '88,658,172',\n",
       "       '144,738,046', '5,689,784', '2,646,396', '98,000,000',\n",
       "       '41,800,000', '2,927,972', '36,873,198', '2,782,548', '72,700,000',\n",
       "       '581,813', '1,320,005', '25,335,935', '1,416,189', '59,371',\n",
       "       '794,306', '33,886,034'], dtype=object)"
      ]
     },
     "execution_count": 7,
     "metadata": {},
     "output_type": "execute_result"
    }
   ],
   "source": [
    "df.box_office.unique()"
   ]
  },
  {
   "cell_type": "code",
   "execution_count": 8,
   "metadata": {},
   "outputs": [],
   "source": [
    "def money_str_to_int(ms):\n",
    "    return int(ms.replace(\",\", \"\"))"
   ]
  },
  {
   "cell_type": "code",
   "execution_count": 9,
   "metadata": {},
   "outputs": [
    {
     "data": {
      "text/html": [
       "<div>\n",
       "<style scoped>\n",
       "    .dataframe tbody tr th:only-of-type {\n",
       "        vertical-align: middle;\n",
       "    }\n",
       "\n",
       "    .dataframe tbody tr th {\n",
       "        vertical-align: top;\n",
       "    }\n",
       "\n",
       "    .dataframe thead th {\n",
       "        text-align: right;\n",
       "    }\n",
       "</style>\n",
       "<table border=\"1\" class=\"dataframe\">\n",
       "  <thead>\n",
       "    <tr style=\"text-align: right;\">\n",
       "      <th></th>\n",
       "      <th>id</th>\n",
       "      <th>synopsis</th>\n",
       "      <th>rating</th>\n",
       "      <th>genre</th>\n",
       "      <th>director</th>\n",
       "      <th>writer</th>\n",
       "      <th>theater_date</th>\n",
       "      <th>dvd_date</th>\n",
       "      <th>currency</th>\n",
       "      <th>box_office</th>\n",
       "      <th>runtime</th>\n",
       "      <th>studio</th>\n",
       "    </tr>\n",
       "  </thead>\n",
       "  <tbody>\n",
       "    <tr>\n",
       "      <th>0</th>\n",
       "      <td>1</td>\n",
       "      <td>This gritty, fast-paced, and innovative police...</td>\n",
       "      <td>R</td>\n",
       "      <td>Action and Adventure|Classics|Drama</td>\n",
       "      <td>William Friedkin</td>\n",
       "      <td>Ernest Tidyman</td>\n",
       "      <td>Oct 9, 1971</td>\n",
       "      <td>Sep 25, 2001</td>\n",
       "      <td>NaN</td>\n",
       "      <td>-1</td>\n",
       "      <td>104 minutes</td>\n",
       "      <td>NaN</td>\n",
       "    </tr>\n",
       "    <tr>\n",
       "      <th>1</th>\n",
       "      <td>3</td>\n",
       "      <td>New York City, not-too-distant-future: Eric Pa...</td>\n",
       "      <td>R</td>\n",
       "      <td>Drama|Science Fiction and Fantasy</td>\n",
       "      <td>David Cronenberg</td>\n",
       "      <td>David Cronenberg|Don DeLillo</td>\n",
       "      <td>Aug 17, 2012</td>\n",
       "      <td>Jan 1, 2013</td>\n",
       "      <td>$</td>\n",
       "      <td>600000</td>\n",
       "      <td>108 minutes</td>\n",
       "      <td>Entertainment One</td>\n",
       "    </tr>\n",
       "    <tr>\n",
       "      <th>2</th>\n",
       "      <td>5</td>\n",
       "      <td>Illeana Douglas delivers a superb performance ...</td>\n",
       "      <td>R</td>\n",
       "      <td>Drama|Musical and Performing Arts</td>\n",
       "      <td>Allison Anders</td>\n",
       "      <td>Allison Anders</td>\n",
       "      <td>Sep 13, 1996</td>\n",
       "      <td>Apr 18, 2000</td>\n",
       "      <td>NaN</td>\n",
       "      <td>-1</td>\n",
       "      <td>116 minutes</td>\n",
       "      <td>NaN</td>\n",
       "    </tr>\n",
       "    <tr>\n",
       "      <th>3</th>\n",
       "      <td>6</td>\n",
       "      <td>Michael Douglas runs afoul of a treacherous su...</td>\n",
       "      <td>R</td>\n",
       "      <td>Drama|Mystery and Suspense</td>\n",
       "      <td>Barry Levinson</td>\n",
       "      <td>Paul Attanasio|Michael Crichton</td>\n",
       "      <td>Dec 9, 1994</td>\n",
       "      <td>Aug 27, 1997</td>\n",
       "      <td>NaN</td>\n",
       "      <td>-1</td>\n",
       "      <td>128 minutes</td>\n",
       "      <td>NaN</td>\n",
       "    </tr>\n",
       "    <tr>\n",
       "      <th>4</th>\n",
       "      <td>7</td>\n",
       "      <td>NaN</td>\n",
       "      <td>NR</td>\n",
       "      <td>Drama|Romance</td>\n",
       "      <td>Rodney Bennett</td>\n",
       "      <td>Giles Cooper</td>\n",
       "      <td>NaN</td>\n",
       "      <td>NaN</td>\n",
       "      <td>NaN</td>\n",
       "      <td>-1</td>\n",
       "      <td>200 minutes</td>\n",
       "      <td>NaN</td>\n",
       "    </tr>\n",
       "  </tbody>\n",
       "</table>\n",
       "</div>"
      ],
      "text/plain": [
       "   id                                           synopsis rating  \\\n",
       "0   1  This gritty, fast-paced, and innovative police...      R   \n",
       "1   3  New York City, not-too-distant-future: Eric Pa...      R   \n",
       "2   5  Illeana Douglas delivers a superb performance ...      R   \n",
       "3   6  Michael Douglas runs afoul of a treacherous su...      R   \n",
       "4   7                                                NaN     NR   \n",
       "\n",
       "                                 genre          director  \\\n",
       "0  Action and Adventure|Classics|Drama  William Friedkin   \n",
       "1    Drama|Science Fiction and Fantasy  David Cronenberg   \n",
       "2    Drama|Musical and Performing Arts    Allison Anders   \n",
       "3           Drama|Mystery and Suspense    Barry Levinson   \n",
       "4                        Drama|Romance    Rodney Bennett   \n",
       "\n",
       "                            writer  theater_date      dvd_date currency  \\\n",
       "0                   Ernest Tidyman   Oct 9, 1971  Sep 25, 2001      NaN   \n",
       "1     David Cronenberg|Don DeLillo  Aug 17, 2012   Jan 1, 2013        $   \n",
       "2                   Allison Anders  Sep 13, 1996  Apr 18, 2000      NaN   \n",
       "3  Paul Attanasio|Michael Crichton   Dec 9, 1994  Aug 27, 1997      NaN   \n",
       "4                     Giles Cooper           NaN           NaN      NaN   \n",
       "\n",
       "   box_office      runtime             studio  \n",
       "0          -1  104 minutes                NaN  \n",
       "1      600000  108 minutes  Entertainment One  \n",
       "2          -1  116 minutes                NaN  \n",
       "3          -1  128 minutes                NaN  \n",
       "4          -1  200 minutes                NaN  "
      ]
     },
     "execution_count": 9,
     "metadata": {},
     "output_type": "execute_result"
    }
   ],
   "source": [
    "df.box_office = df.box_office.apply(lambda x: money_str_to_int(x) if type(x) == str else -1)\n",
    "df.head()"
   ]
  },
  {
   "cell_type": "code",
   "execution_count": 10,
   "metadata": {},
   "outputs": [
    {
     "data": {
      "text/plain": [
       "1220"
      ]
     },
     "execution_count": 10,
     "metadata": {},
     "output_type": "execute_result"
    }
   ],
   "source": [
    "len(df[df.box_office == -1])"
   ]
  },
  {
   "cell_type": "code",
   "execution_count": 11,
   "metadata": {},
   "outputs": [
    {
     "data": {
      "text/plain": [
       "340"
      ]
     },
     "execution_count": 11,
     "metadata": {},
     "output_type": "execute_result"
    }
   ],
   "source": [
    "len(df[df.box_office != -1])"
   ]
  },
  {
   "cell_type": "code",
   "execution_count": null,
   "metadata": {},
   "outputs": [],
   "source": []
  }
 ],
 "metadata": {
  "kernelspec": {
   "display_name": "Python 3",
   "language": "python",
   "name": "python3"
  },
  "language_info": {
   "codemirror_mode": {
    "name": "ipython",
    "version": 3
   },
   "file_extension": ".py",
   "mimetype": "text/x-python",
   "name": "python",
   "nbconvert_exporter": "python",
   "pygments_lexer": "ipython3",
   "version": "3.7.3"
  }
 },
 "nbformat": 4,
 "nbformat_minor": 2
}
