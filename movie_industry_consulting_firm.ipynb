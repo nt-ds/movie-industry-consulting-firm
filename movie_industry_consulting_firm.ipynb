{
 "cells": [
  {
   "cell_type": "markdown",
   "metadata": {},
   "source": [
    "# DN Movie Industry Consulting Firm\n",
    "**Dmitry Mikhaylov & Ngoc Tran**<br>\n",
    "Jun 19, 2019"
   ]
  },
  {
   "cell_type": "markdown",
   "metadata": {},
   "source": [
    "------"
   ]
  },
  {
   "cell_type": "markdown",
   "metadata": {},
   "source": [
    "### Understand the Movie Industry\n",
    "Market Penetration Strategy<br>\n",
    "Key Success Factors: Budget-Genre-Crew"
   ]
  },
  {
   "cell_type": "markdown",
   "metadata": {},
   "source": [
    "------"
   ]
  },
  {
   "cell_type": "markdown",
   "metadata": {},
   "source": [
    "**Import**"
   ]
  },
  {
   "cell_type": "code",
   "execution_count": 1,
   "metadata": {},
   "outputs": [],
   "source": [
    "%matplotlib inline\n",
    "\n",
    "import pandas as pd\n",
    "import seaborn as sns\n",
    "import matplotlib.pyplot as plt\n",
    "\n",
    "sns.set_style(\"whitegrid\")"
   ]
  },
  {
   "cell_type": "markdown",
   "metadata": {},
   "source": [
    "------"
   ]
  },
  {
   "cell_type": "markdown",
   "metadata": {},
   "source": [
    "## First factor:\n",
    "### Movie budgets analysis"
   ]
  },
  {
   "cell_type": "markdown",
   "metadata": {},
   "source": [
    "Source: [TheMovieDB.org](https://www.the-numbers.com/movie/budgets/all)"
   ]
  },
  {
   "cell_type": "code",
   "execution_count": null,
   "metadata": {},
   "outputs": [],
   "source": []
  },
  {
   "cell_type": "code",
   "execution_count": null,
   "metadata": {},
   "outputs": [],
   "source": []
  },
  {
   "cell_type": "markdown",
   "metadata": {},
   "source": [
    "-------------"
   ]
  },
  {
   "cell_type": "markdown",
   "metadata": {},
   "source": [
    "## Second factor:\n",
    "### Genres analysis"
   ]
  },
  {
   "cell_type": "markdown",
   "metadata": {},
   "source": [
    "**The first data set**"
   ]
  },
  {
   "cell_type": "markdown",
   "metadata": {},
   "source": [
    "Source: [IMDB](https://www.imdb.com/interfaces/)"
   ]
  },
  {
   "cell_type": "code",
   "execution_count": 2,
   "metadata": {},
   "outputs": [],
   "source": [
    "title_basics = pd.read_csv(\"data/imdb.title.basics.csv.gz\")"
   ]
  },
  {
   "cell_type": "markdown",
   "metadata": {},
   "source": [
    "Check it out"
   ]
  },
  {
   "cell_type": "code",
   "execution_count": 3,
   "metadata": {},
   "outputs": [
    {
     "name": "stdout",
     "output_type": "stream",
     "text": [
      "<class 'pandas.core.frame.DataFrame'>\n",
      "RangeIndex: 146144 entries, 0 to 146143\n",
      "Data columns (total 6 columns):\n",
      "tconst             146144 non-null object\n",
      "primary_title      146144 non-null object\n",
      "original_title     146123 non-null object\n",
      "start_year         146144 non-null int64\n",
      "runtime_minutes    114405 non-null float64\n",
      "genres             140736 non-null object\n",
      "dtypes: float64(1), int64(1), object(4)\n",
      "memory usage: 6.7+ MB\n"
     ]
    }
   ],
   "source": [
    "title_basics.info()"
   ]
  },
  {
   "cell_type": "markdown",
   "metadata": {},
   "source": [
    "Duplicates"
   ]
  },
  {
   "cell_type": "code",
   "execution_count": 4,
   "metadata": {},
   "outputs": [
    {
     "data": {
      "text/html": [
       "<div>\n",
       "<style scoped>\n",
       "    .dataframe tbody tr th:only-of-type {\n",
       "        vertical-align: middle;\n",
       "    }\n",
       "\n",
       "    .dataframe tbody tr th {\n",
       "        vertical-align: top;\n",
       "    }\n",
       "\n",
       "    .dataframe thead th {\n",
       "        text-align: right;\n",
       "    }\n",
       "</style>\n",
       "<table border=\"1\" class=\"dataframe\">\n",
       "  <thead>\n",
       "    <tr style=\"text-align: right;\">\n",
       "      <th></th>\n",
       "      <th>tconst</th>\n",
       "      <th>primary_title</th>\n",
       "      <th>original_title</th>\n",
       "      <th>start_year</th>\n",
       "      <th>runtime_minutes</th>\n",
       "      <th>genres</th>\n",
       "    </tr>\n",
       "  </thead>\n",
       "  <tbody>\n",
       "  </tbody>\n",
       "</table>\n",
       "</div>"
      ],
      "text/plain": [
       "Empty DataFrame\n",
       "Columns: [tconst, primary_title, original_title, start_year, runtime_minutes, genres]\n",
       "Index: []"
      ]
     },
     "execution_count": 4,
     "metadata": {},
     "output_type": "execute_result"
    }
   ],
   "source": [
    "title_basics[title_basics.duplicated()]"
   ]
  },
  {
   "cell_type": "markdown",
   "metadata": {},
   "source": [
    "Missing values"
   ]
  },
  {
   "cell_type": "code",
   "execution_count": 5,
   "metadata": {},
   "outputs": [
    {
     "data": {
      "text/plain": [
       "3.7004598204510617"
      ]
     },
     "execution_count": 5,
     "metadata": {},
     "output_type": "execute_result"
    }
   ],
   "source": [
    "title_basics[\"genres\"].isna().sum() / len(title_basics) * 100"
   ]
  },
  {
   "cell_type": "markdown",
   "metadata": {},
   "source": [
    "Right now, we only care about tconst (PK) and genres"
   ]
  },
  {
   "cell_type": "code",
   "execution_count": 6,
   "metadata": {},
   "outputs": [],
   "source": [
    "title_basics.drop(columns=[\"primary_title\", \"original_title\", \"start_year\", \"runtime_minutes\"], inplace=True)"
   ]
  },
  {
   "cell_type": "markdown",
   "metadata": {},
   "source": [
    "How many genres are there?"
   ]
  },
  {
   "cell_type": "code",
   "execution_count": 7,
   "metadata": {},
   "outputs": [],
   "source": [
    "genres = []\n",
    "for i in range(len(title_basics)):\n",
    "    if type(title_basics.genres[i]) == str:\n",
    "        gen = title_basics.genres[i].split(\",\")\n",
    "        for g in gen:\n",
    "            if g not in genres:\n",
    "                genres.append(g)"
   ]
  },
  {
   "cell_type": "code",
   "execution_count": 8,
   "metadata": {},
   "outputs": [
    {
     "name": "stdout",
     "output_type": "stream",
     "text": [
      "27\n"
     ]
    },
    {
     "data": {
      "text/plain": [
       "['Action',\n",
       " 'Crime',\n",
       " 'Drama',\n",
       " 'Biography',\n",
       " 'Comedy',\n",
       " 'Fantasy',\n",
       " 'Horror',\n",
       " 'Thriller',\n",
       " 'Adventure',\n",
       " 'Animation',\n",
       " 'Documentary',\n",
       " 'History',\n",
       " 'Mystery',\n",
       " 'Sci-Fi',\n",
       " 'Romance',\n",
       " 'Family',\n",
       " 'War',\n",
       " 'Music',\n",
       " 'Sport',\n",
       " 'Western',\n",
       " 'Musical',\n",
       " 'Adult',\n",
       " 'News',\n",
       " 'Talk-Show',\n",
       " 'Reality-TV',\n",
       " 'Game-Show',\n",
       " 'Short']"
      ]
     },
     "execution_count": 8,
     "metadata": {},
     "output_type": "execute_result"
    }
   ],
   "source": [
    "print(len(genres))\n",
    "genres"
   ]
  },
  {
   "cell_type": "markdown",
   "metadata": {},
   "source": [
    "Create columns for those genres"
   ]
  },
  {
   "cell_type": "code",
   "execution_count": 9,
   "metadata": {},
   "outputs": [],
   "source": [
    "action = []\n",
    "crime = []\n",
    "drama = []\n",
    "biography = []\n",
    "comedy = []\n",
    "fantasy = []\n",
    "horror = []\n",
    "thriller = []\n",
    "adventure = []\n",
    "animation = []\n",
    "documentary = []\n",
    "history = []\n",
    "mystery = []\n",
    "scifi = []\n",
    "romance = []\n",
    "family = []\n",
    "war = []\n",
    "music = []\n",
    "sport = []\n",
    "western = []\n",
    "musical = []\n",
    "adult = []\n",
    "news = []\n",
    "talk_show = []\n",
    "reality_TV = []\n",
    "game_show = []\n",
    "short = []\n",
    "\n",
    "list_genres = [action, crime, drama, biography, comedy, fantasy, horror, thriller, adventure, animation,\n",
    "               documentary, history, mystery, scifi, romance, family, war, music, sport, western, musical,\n",
    "               adult, news, talk_show, reality_TV, game_show, short]\n",
    "\n",
    "list_genres_names = [\"action\", \"crime\", \"drama\", \"biography\", \"comedy\", \"fantasy\", \"horror\", \"thriller\",\n",
    "                     \"adventure\", \"animation\", \"documentary\", \"history\", \"mystery\", \"scifi\", \"romance\",\n",
    "                     \"family\", \"war\", \"music\", \"sport\", \"western\", \"musical\", \"adult\", \"news\", \"talk_show\",\n",
    "                     \"reality_TV\", \"game_show\", \"short\"]"
   ]
  },
  {
   "cell_type": "code",
   "execution_count": 10,
   "metadata": {},
   "outputs": [],
   "source": [
    "def give_one(list_genres, index):\n",
    "    list_genres[index].append(1)"
   ]
  },
  {
   "cell_type": "code",
   "execution_count": 11,
   "metadata": {},
   "outputs": [],
   "source": [
    "def give_zeros(list_genres, list_i):\n",
    "    for i in range(27):\n",
    "        if i not in list_i:\n",
    "            list_genres[i].append(0)"
   ]
  },
  {
   "cell_type": "code",
   "execution_count": 12,
   "metadata": {},
   "outputs": [],
   "source": [
    "def fill_all_zeros(list_genres):\n",
    "    for i in range(27):\n",
    "        list_genres[i].append(0)"
   ]
  },
  {
   "cell_type": "code",
   "execution_count": 13,
   "metadata": {},
   "outputs": [],
   "source": [
    "for i in range(len(title_basics)):\n",
    "    if type(title_basics.genres[i]) == str:\n",
    "        gen = title_basics.genres[i].split(\",\")\n",
    "        list_i = []\n",
    "        for g in gen:\n",
    "            g = g.lower()\n",
    "            if g == \"sci-fi\":\n",
    "                g = \"scifi\"\n",
    "            elif g == \"talk-show\":\n",
    "                g = \"talk_show\"\n",
    "            elif g == \"reality-tv\":\n",
    "                g = \"reality_TV\"\n",
    "            elif g == \"game-show\":\n",
    "                g = \"game_show\"\n",
    "            index = list_genres_names.index(g)\n",
    "            give_one(list_genres, index)\n",
    "            list_i.append(index)\n",
    "        give_zeros(list_genres, list_i)\n",
    "    else:\n",
    "        fill_all_zeros(list_genres)"
   ]
  },
  {
   "cell_type": "code",
   "execution_count": 14,
   "metadata": {},
   "outputs": [],
   "source": [
    "title_basics[\"action\"] = action\n",
    "title_basics[\"crime\"] = crime\n",
    "title_basics[\"drama\"] = drama\n",
    "title_basics[\"biography\"] = biography\n",
    "title_basics[\"comedy\"] = comedy\n",
    "title_basics[\"fantasy\"] = fantasy\n",
    "title_basics[\"horror\"] = horror\n",
    "title_basics[\"thriller\"] = thriller\n",
    "title_basics[\"adventure\"] = adventure\n",
    "title_basics[\"animation\"] = animation\n",
    "title_basics[\"documentary\"] = documentary\n",
    "title_basics[\"history\"] = history\n",
    "title_basics[\"mystery\"] = mystery\n",
    "title_basics[\"scifi\"] = scifi\n",
    "title_basics[\"romance\"] = romance\n",
    "title_basics[\"family\"] = family\n",
    "title_basics[\"war\"] = war\n",
    "title_basics[\"music\"] = music\n",
    "title_basics[\"sport\"] = sport\n",
    "title_basics[\"western\"] = western\n",
    "title_basics[\"musical\"] = musical\n",
    "title_basics[\"adult\"] = adult\n",
    "title_basics[\"news\"] = news\n",
    "title_basics[\"talk_show\"] = talk_show\n",
    "title_basics[\"reality_TV\"] = reality_TV\n",
    "title_basics[\"game_show\"] = game_show\n",
    "title_basics[\"short\"] = short"
   ]
  },
  {
   "cell_type": "markdown",
   "metadata": {},
   "source": [
    "We don't need the genres column anymore"
   ]
  },
  {
   "cell_type": "code",
   "execution_count": 15,
   "metadata": {},
   "outputs": [],
   "source": [
    "title_basics.drop(columns=\"genres\", inplace=True)"
   ]
  },
  {
   "cell_type": "markdown",
   "metadata": {},
   "source": [
    "Let's look at the data frame"
   ]
  },
  {
   "cell_type": "code",
   "execution_count": 16,
   "metadata": {},
   "outputs": [
    {
     "data": {
      "text/html": [
       "<div>\n",
       "<style scoped>\n",
       "    .dataframe tbody tr th:only-of-type {\n",
       "        vertical-align: middle;\n",
       "    }\n",
       "\n",
       "    .dataframe tbody tr th {\n",
       "        vertical-align: top;\n",
       "    }\n",
       "\n",
       "    .dataframe thead th {\n",
       "        text-align: right;\n",
       "    }\n",
       "</style>\n",
       "<table border=\"1\" class=\"dataframe\">\n",
       "  <thead>\n",
       "    <tr style=\"text-align: right;\">\n",
       "      <th></th>\n",
       "      <th>tconst</th>\n",
       "      <th>action</th>\n",
       "      <th>crime</th>\n",
       "      <th>drama</th>\n",
       "      <th>biography</th>\n",
       "      <th>comedy</th>\n",
       "      <th>fantasy</th>\n",
       "      <th>horror</th>\n",
       "      <th>thriller</th>\n",
       "      <th>adventure</th>\n",
       "      <th>...</th>\n",
       "      <th>music</th>\n",
       "      <th>sport</th>\n",
       "      <th>western</th>\n",
       "      <th>musical</th>\n",
       "      <th>adult</th>\n",
       "      <th>news</th>\n",
       "      <th>talk_show</th>\n",
       "      <th>reality_TV</th>\n",
       "      <th>game_show</th>\n",
       "      <th>short</th>\n",
       "    </tr>\n",
       "  </thead>\n",
       "  <tbody>\n",
       "    <tr>\n",
       "      <th>0</th>\n",
       "      <td>tt0063540</td>\n",
       "      <td>1</td>\n",
       "      <td>1</td>\n",
       "      <td>1</td>\n",
       "      <td>0</td>\n",
       "      <td>0</td>\n",
       "      <td>0</td>\n",
       "      <td>0</td>\n",
       "      <td>0</td>\n",
       "      <td>0</td>\n",
       "      <td>...</td>\n",
       "      <td>0</td>\n",
       "      <td>0</td>\n",
       "      <td>0</td>\n",
       "      <td>0</td>\n",
       "      <td>0</td>\n",
       "      <td>0</td>\n",
       "      <td>0</td>\n",
       "      <td>0</td>\n",
       "      <td>0</td>\n",
       "      <td>0</td>\n",
       "    </tr>\n",
       "    <tr>\n",
       "      <th>1</th>\n",
       "      <td>tt0066787</td>\n",
       "      <td>0</td>\n",
       "      <td>0</td>\n",
       "      <td>1</td>\n",
       "      <td>1</td>\n",
       "      <td>0</td>\n",
       "      <td>0</td>\n",
       "      <td>0</td>\n",
       "      <td>0</td>\n",
       "      <td>0</td>\n",
       "      <td>...</td>\n",
       "      <td>0</td>\n",
       "      <td>0</td>\n",
       "      <td>0</td>\n",
       "      <td>0</td>\n",
       "      <td>0</td>\n",
       "      <td>0</td>\n",
       "      <td>0</td>\n",
       "      <td>0</td>\n",
       "      <td>0</td>\n",
       "      <td>0</td>\n",
       "    </tr>\n",
       "    <tr>\n",
       "      <th>2</th>\n",
       "      <td>tt0069049</td>\n",
       "      <td>0</td>\n",
       "      <td>0</td>\n",
       "      <td>1</td>\n",
       "      <td>0</td>\n",
       "      <td>0</td>\n",
       "      <td>0</td>\n",
       "      <td>0</td>\n",
       "      <td>0</td>\n",
       "      <td>0</td>\n",
       "      <td>...</td>\n",
       "      <td>0</td>\n",
       "      <td>0</td>\n",
       "      <td>0</td>\n",
       "      <td>0</td>\n",
       "      <td>0</td>\n",
       "      <td>0</td>\n",
       "      <td>0</td>\n",
       "      <td>0</td>\n",
       "      <td>0</td>\n",
       "      <td>0</td>\n",
       "    </tr>\n",
       "    <tr>\n",
       "      <th>3</th>\n",
       "      <td>tt0069204</td>\n",
       "      <td>0</td>\n",
       "      <td>0</td>\n",
       "      <td>1</td>\n",
       "      <td>0</td>\n",
       "      <td>1</td>\n",
       "      <td>0</td>\n",
       "      <td>0</td>\n",
       "      <td>0</td>\n",
       "      <td>0</td>\n",
       "      <td>...</td>\n",
       "      <td>0</td>\n",
       "      <td>0</td>\n",
       "      <td>0</td>\n",
       "      <td>0</td>\n",
       "      <td>0</td>\n",
       "      <td>0</td>\n",
       "      <td>0</td>\n",
       "      <td>0</td>\n",
       "      <td>0</td>\n",
       "      <td>0</td>\n",
       "    </tr>\n",
       "    <tr>\n",
       "      <th>4</th>\n",
       "      <td>tt0100275</td>\n",
       "      <td>0</td>\n",
       "      <td>0</td>\n",
       "      <td>1</td>\n",
       "      <td>0</td>\n",
       "      <td>1</td>\n",
       "      <td>1</td>\n",
       "      <td>0</td>\n",
       "      <td>0</td>\n",
       "      <td>0</td>\n",
       "      <td>...</td>\n",
       "      <td>0</td>\n",
       "      <td>0</td>\n",
       "      <td>0</td>\n",
       "      <td>0</td>\n",
       "      <td>0</td>\n",
       "      <td>0</td>\n",
       "      <td>0</td>\n",
       "      <td>0</td>\n",
       "      <td>0</td>\n",
       "      <td>0</td>\n",
       "    </tr>\n",
       "  </tbody>\n",
       "</table>\n",
       "<p>5 rows × 28 columns</p>\n",
       "</div>"
      ],
      "text/plain": [
       "      tconst  action  crime  drama  biography  comedy  fantasy  horror  \\\n",
       "0  tt0063540       1      1      1          0       0        0       0   \n",
       "1  tt0066787       0      0      1          1       0        0       0   \n",
       "2  tt0069049       0      0      1          0       0        0       0   \n",
       "3  tt0069204       0      0      1          0       1        0       0   \n",
       "4  tt0100275       0      0      1          0       1        1       0   \n",
       "\n",
       "   thriller  adventure  ...  music  sport  western  musical  adult  news  \\\n",
       "0         0          0  ...      0      0        0        0      0     0   \n",
       "1         0          0  ...      0      0        0        0      0     0   \n",
       "2         0          0  ...      0      0        0        0      0     0   \n",
       "3         0          0  ...      0      0        0        0      0     0   \n",
       "4         0          0  ...      0      0        0        0      0     0   \n",
       "\n",
       "   talk_show  reality_TV  game_show  short  \n",
       "0          0           0          0      0  \n",
       "1          0           0          0      0  \n",
       "2          0           0          0      0  \n",
       "3          0           0          0      0  \n",
       "4          0           0          0      0  \n",
       "\n",
       "[5 rows x 28 columns]"
      ]
     },
     "execution_count": 16,
     "metadata": {},
     "output_type": "execute_result"
    }
   ],
   "source": [
    "title_basics.head()"
   ]
  },
  {
   "cell_type": "markdown",
   "metadata": {},
   "source": [
    "**The second data set**"
   ]
  },
  {
   "cell_type": "markdown",
   "metadata": {},
   "source": [
    "Source: [IMDB](https://www.imdb.com/interfaces/)"
   ]
  },
  {
   "cell_type": "code",
   "execution_count": 17,
   "metadata": {},
   "outputs": [],
   "source": [
    "title_ratings = pd.read_csv(\"data/imdb.title.ratings.csv.gz\")"
   ]
  },
  {
   "cell_type": "markdown",
   "metadata": {},
   "source": [
    "Check it out"
   ]
  },
  {
   "cell_type": "code",
   "execution_count": 18,
   "metadata": {},
   "outputs": [
    {
     "name": "stdout",
     "output_type": "stream",
     "text": [
      "<class 'pandas.core.frame.DataFrame'>\n",
      "RangeIndex: 73856 entries, 0 to 73855\n",
      "Data columns (total 3 columns):\n",
      "tconst           73856 non-null object\n",
      "averagerating    73856 non-null float64\n",
      "numvotes         73856 non-null int64\n",
      "dtypes: float64(1), int64(1), object(1)\n",
      "memory usage: 1.7+ MB\n"
     ]
    }
   ],
   "source": [
    "title_ratings.info()"
   ]
  },
  {
   "cell_type": "code",
   "execution_count": 19,
   "metadata": {},
   "outputs": [
    {
     "data": {
      "text/html": [
       "<div>\n",
       "<style scoped>\n",
       "    .dataframe tbody tr th:only-of-type {\n",
       "        vertical-align: middle;\n",
       "    }\n",
       "\n",
       "    .dataframe tbody tr th {\n",
       "        vertical-align: top;\n",
       "    }\n",
       "\n",
       "    .dataframe thead th {\n",
       "        text-align: right;\n",
       "    }\n",
       "</style>\n",
       "<table border=\"1\" class=\"dataframe\">\n",
       "  <thead>\n",
       "    <tr style=\"text-align: right;\">\n",
       "      <th></th>\n",
       "      <th>averagerating</th>\n",
       "      <th>numvotes</th>\n",
       "    </tr>\n",
       "  </thead>\n",
       "  <tbody>\n",
       "    <tr>\n",
       "      <th>count</th>\n",
       "      <td>73856.000000</td>\n",
       "      <td>7.385600e+04</td>\n",
       "    </tr>\n",
       "    <tr>\n",
       "      <th>mean</th>\n",
       "      <td>6.332729</td>\n",
       "      <td>3.523662e+03</td>\n",
       "    </tr>\n",
       "    <tr>\n",
       "      <th>std</th>\n",
       "      <td>1.474978</td>\n",
       "      <td>3.029402e+04</td>\n",
       "    </tr>\n",
       "    <tr>\n",
       "      <th>min</th>\n",
       "      <td>1.000000</td>\n",
       "      <td>5.000000e+00</td>\n",
       "    </tr>\n",
       "    <tr>\n",
       "      <th>25%</th>\n",
       "      <td>5.500000</td>\n",
       "      <td>1.400000e+01</td>\n",
       "    </tr>\n",
       "    <tr>\n",
       "      <th>50%</th>\n",
       "      <td>6.500000</td>\n",
       "      <td>4.900000e+01</td>\n",
       "    </tr>\n",
       "    <tr>\n",
       "      <th>75%</th>\n",
       "      <td>7.400000</td>\n",
       "      <td>2.820000e+02</td>\n",
       "    </tr>\n",
       "    <tr>\n",
       "      <th>max</th>\n",
       "      <td>10.000000</td>\n",
       "      <td>1.841066e+06</td>\n",
       "    </tr>\n",
       "  </tbody>\n",
       "</table>\n",
       "</div>"
      ],
      "text/plain": [
       "       averagerating      numvotes\n",
       "count   73856.000000  7.385600e+04\n",
       "mean        6.332729  3.523662e+03\n",
       "std         1.474978  3.029402e+04\n",
       "min         1.000000  5.000000e+00\n",
       "25%         5.500000  1.400000e+01\n",
       "50%         6.500000  4.900000e+01\n",
       "75%         7.400000  2.820000e+02\n",
       "max        10.000000  1.841066e+06"
      ]
     },
     "execution_count": 19,
     "metadata": {},
     "output_type": "execute_result"
    }
   ],
   "source": [
    "title_ratings.describe()"
   ]
  },
  {
   "cell_type": "markdown",
   "metadata": {},
   "source": [
    "We only care about the average rating"
   ]
  },
  {
   "cell_type": "code",
   "execution_count": 20,
   "metadata": {},
   "outputs": [],
   "source": [
    "title_ratings.drop(columns=\"numvotes\", inplace=True)"
   ]
  },
  {
   "cell_type": "markdown",
   "metadata": {},
   "source": [
    "Let's look at the data frame"
   ]
  },
  {
   "cell_type": "code",
   "execution_count": 21,
   "metadata": {},
   "outputs": [
    {
     "data": {
      "text/html": [
       "<div>\n",
       "<style scoped>\n",
       "    .dataframe tbody tr th:only-of-type {\n",
       "        vertical-align: middle;\n",
       "    }\n",
       "\n",
       "    .dataframe tbody tr th {\n",
       "        vertical-align: top;\n",
       "    }\n",
       "\n",
       "    .dataframe thead th {\n",
       "        text-align: right;\n",
       "    }\n",
       "</style>\n",
       "<table border=\"1\" class=\"dataframe\">\n",
       "  <thead>\n",
       "    <tr style=\"text-align: right;\">\n",
       "      <th></th>\n",
       "      <th>tconst</th>\n",
       "      <th>averagerating</th>\n",
       "    </tr>\n",
       "  </thead>\n",
       "  <tbody>\n",
       "    <tr>\n",
       "      <th>0</th>\n",
       "      <td>tt10356526</td>\n",
       "      <td>8.3</td>\n",
       "    </tr>\n",
       "    <tr>\n",
       "      <th>1</th>\n",
       "      <td>tt10384606</td>\n",
       "      <td>8.9</td>\n",
       "    </tr>\n",
       "    <tr>\n",
       "      <th>2</th>\n",
       "      <td>tt1042974</td>\n",
       "      <td>6.4</td>\n",
       "    </tr>\n",
       "    <tr>\n",
       "      <th>3</th>\n",
       "      <td>tt1043726</td>\n",
       "      <td>4.2</td>\n",
       "    </tr>\n",
       "    <tr>\n",
       "      <th>4</th>\n",
       "      <td>tt1060240</td>\n",
       "      <td>6.5</td>\n",
       "    </tr>\n",
       "  </tbody>\n",
       "</table>\n",
       "</div>"
      ],
      "text/plain": [
       "       tconst  averagerating\n",
       "0  tt10356526            8.3\n",
       "1  tt10384606            8.9\n",
       "2   tt1042974            6.4\n",
       "3   tt1043726            4.2\n",
       "4   tt1060240            6.5"
      ]
     },
     "execution_count": 21,
     "metadata": {},
     "output_type": "execute_result"
    }
   ],
   "source": [
    "title_ratings.head()"
   ]
  },
  {
   "cell_type": "markdown",
   "metadata": {},
   "source": [
    "**Merging the two data frames**"
   ]
  },
  {
   "cell_type": "code",
   "execution_count": 22,
   "metadata": {},
   "outputs": [],
   "source": [
    "df = title_basics.merge(title_ratings, how='inner', on=\"tconst\")"
   ]
  },
  {
   "cell_type": "markdown",
   "metadata": {},
   "source": [
    "Check it out"
   ]
  },
  {
   "cell_type": "code",
   "execution_count": 23,
   "metadata": {},
   "outputs": [
    {
     "data": {
      "text/html": [
       "<div>\n",
       "<style scoped>\n",
       "    .dataframe tbody tr th:only-of-type {\n",
       "        vertical-align: middle;\n",
       "    }\n",
       "\n",
       "    .dataframe tbody tr th {\n",
       "        vertical-align: top;\n",
       "    }\n",
       "\n",
       "    .dataframe thead th {\n",
       "        text-align: right;\n",
       "    }\n",
       "</style>\n",
       "<table border=\"1\" class=\"dataframe\">\n",
       "  <thead>\n",
       "    <tr style=\"text-align: right;\">\n",
       "      <th></th>\n",
       "      <th>tconst</th>\n",
       "      <th>action</th>\n",
       "      <th>crime</th>\n",
       "      <th>drama</th>\n",
       "      <th>biography</th>\n",
       "      <th>comedy</th>\n",
       "      <th>fantasy</th>\n",
       "      <th>horror</th>\n",
       "      <th>thriller</th>\n",
       "      <th>adventure</th>\n",
       "      <th>...</th>\n",
       "      <th>sport</th>\n",
       "      <th>western</th>\n",
       "      <th>musical</th>\n",
       "      <th>adult</th>\n",
       "      <th>news</th>\n",
       "      <th>talk_show</th>\n",
       "      <th>reality_TV</th>\n",
       "      <th>game_show</th>\n",
       "      <th>short</th>\n",
       "      <th>averagerating</th>\n",
       "    </tr>\n",
       "  </thead>\n",
       "  <tbody>\n",
       "    <tr>\n",
       "      <th>0</th>\n",
       "      <td>tt0063540</td>\n",
       "      <td>1</td>\n",
       "      <td>1</td>\n",
       "      <td>1</td>\n",
       "      <td>0</td>\n",
       "      <td>0</td>\n",
       "      <td>0</td>\n",
       "      <td>0</td>\n",
       "      <td>0</td>\n",
       "      <td>0</td>\n",
       "      <td>...</td>\n",
       "      <td>0</td>\n",
       "      <td>0</td>\n",
       "      <td>0</td>\n",
       "      <td>0</td>\n",
       "      <td>0</td>\n",
       "      <td>0</td>\n",
       "      <td>0</td>\n",
       "      <td>0</td>\n",
       "      <td>0</td>\n",
       "      <td>7.0</td>\n",
       "    </tr>\n",
       "    <tr>\n",
       "      <th>1</th>\n",
       "      <td>tt0066787</td>\n",
       "      <td>0</td>\n",
       "      <td>0</td>\n",
       "      <td>1</td>\n",
       "      <td>1</td>\n",
       "      <td>0</td>\n",
       "      <td>0</td>\n",
       "      <td>0</td>\n",
       "      <td>0</td>\n",
       "      <td>0</td>\n",
       "      <td>...</td>\n",
       "      <td>0</td>\n",
       "      <td>0</td>\n",
       "      <td>0</td>\n",
       "      <td>0</td>\n",
       "      <td>0</td>\n",
       "      <td>0</td>\n",
       "      <td>0</td>\n",
       "      <td>0</td>\n",
       "      <td>0</td>\n",
       "      <td>7.2</td>\n",
       "    </tr>\n",
       "    <tr>\n",
       "      <th>2</th>\n",
       "      <td>tt0069049</td>\n",
       "      <td>0</td>\n",
       "      <td>0</td>\n",
       "      <td>1</td>\n",
       "      <td>0</td>\n",
       "      <td>0</td>\n",
       "      <td>0</td>\n",
       "      <td>0</td>\n",
       "      <td>0</td>\n",
       "      <td>0</td>\n",
       "      <td>...</td>\n",
       "      <td>0</td>\n",
       "      <td>0</td>\n",
       "      <td>0</td>\n",
       "      <td>0</td>\n",
       "      <td>0</td>\n",
       "      <td>0</td>\n",
       "      <td>0</td>\n",
       "      <td>0</td>\n",
       "      <td>0</td>\n",
       "      <td>6.9</td>\n",
       "    </tr>\n",
       "    <tr>\n",
       "      <th>3</th>\n",
       "      <td>tt0069204</td>\n",
       "      <td>0</td>\n",
       "      <td>0</td>\n",
       "      <td>1</td>\n",
       "      <td>0</td>\n",
       "      <td>1</td>\n",
       "      <td>0</td>\n",
       "      <td>0</td>\n",
       "      <td>0</td>\n",
       "      <td>0</td>\n",
       "      <td>...</td>\n",
       "      <td>0</td>\n",
       "      <td>0</td>\n",
       "      <td>0</td>\n",
       "      <td>0</td>\n",
       "      <td>0</td>\n",
       "      <td>0</td>\n",
       "      <td>0</td>\n",
       "      <td>0</td>\n",
       "      <td>0</td>\n",
       "      <td>6.1</td>\n",
       "    </tr>\n",
       "    <tr>\n",
       "      <th>4</th>\n",
       "      <td>tt0100275</td>\n",
       "      <td>0</td>\n",
       "      <td>0</td>\n",
       "      <td>1</td>\n",
       "      <td>0</td>\n",
       "      <td>1</td>\n",
       "      <td>1</td>\n",
       "      <td>0</td>\n",
       "      <td>0</td>\n",
       "      <td>0</td>\n",
       "      <td>...</td>\n",
       "      <td>0</td>\n",
       "      <td>0</td>\n",
       "      <td>0</td>\n",
       "      <td>0</td>\n",
       "      <td>0</td>\n",
       "      <td>0</td>\n",
       "      <td>0</td>\n",
       "      <td>0</td>\n",
       "      <td>0</td>\n",
       "      <td>6.5</td>\n",
       "    </tr>\n",
       "  </tbody>\n",
       "</table>\n",
       "<p>5 rows × 29 columns</p>\n",
       "</div>"
      ],
      "text/plain": [
       "      tconst  action  crime  drama  biography  comedy  fantasy  horror  \\\n",
       "0  tt0063540       1      1      1          0       0        0       0   \n",
       "1  tt0066787       0      0      1          1       0        0       0   \n",
       "2  tt0069049       0      0      1          0       0        0       0   \n",
       "3  tt0069204       0      0      1          0       1        0       0   \n",
       "4  tt0100275       0      0      1          0       1        1       0   \n",
       "\n",
       "   thriller  adventure  ...  sport  western  musical  adult  news  talk_show  \\\n",
       "0         0          0  ...      0        0        0      0     0          0   \n",
       "1         0          0  ...      0        0        0      0     0          0   \n",
       "2         0          0  ...      0        0        0      0     0          0   \n",
       "3         0          0  ...      0        0        0      0     0          0   \n",
       "4         0          0  ...      0        0        0      0     0          0   \n",
       "\n",
       "   reality_TV  game_show  short  averagerating  \n",
       "0           0          0      0            7.0  \n",
       "1           0          0      0            7.2  \n",
       "2           0          0      0            6.9  \n",
       "3           0          0      0            6.1  \n",
       "4           0          0      0            6.5  \n",
       "\n",
       "[5 rows x 29 columns]"
      ]
     },
     "execution_count": 23,
     "metadata": {},
     "output_type": "execute_result"
    }
   ],
   "source": [
    "df.head()"
   ]
  },
  {
   "cell_type": "code",
   "execution_count": 24,
   "metadata": {},
   "outputs": [
    {
     "name": "stdout",
     "output_type": "stream",
     "text": [
      "<class 'pandas.core.frame.DataFrame'>\n",
      "Int64Index: 73856 entries, 0 to 73855\n",
      "Data columns (total 29 columns):\n",
      "tconst           73856 non-null object\n",
      "action           73856 non-null int64\n",
      "crime            73856 non-null int64\n",
      "drama            73856 non-null int64\n",
      "biography        73856 non-null int64\n",
      "comedy           73856 non-null int64\n",
      "fantasy          73856 non-null int64\n",
      "horror           73856 non-null int64\n",
      "thriller         73856 non-null int64\n",
      "adventure        73856 non-null int64\n",
      "animation        73856 non-null int64\n",
      "documentary      73856 non-null int64\n",
      "history          73856 non-null int64\n",
      "mystery          73856 non-null int64\n",
      "scifi            73856 non-null int64\n",
      "romance          73856 non-null int64\n",
      "family           73856 non-null int64\n",
      "war              73856 non-null int64\n",
      "music            73856 non-null int64\n",
      "sport            73856 non-null int64\n",
      "western          73856 non-null int64\n",
      "musical          73856 non-null int64\n",
      "adult            73856 non-null int64\n",
      "news             73856 non-null int64\n",
      "talk_show        73856 non-null int64\n",
      "reality_TV       73856 non-null int64\n",
      "game_show        73856 non-null int64\n",
      "short            73856 non-null int64\n",
      "averagerating    73856 non-null float64\n",
      "dtypes: float64(1), int64(27), object(1)\n",
      "memory usage: 16.9+ MB\n"
     ]
    }
   ],
   "source": [
    "df.info()"
   ]
  },
  {
   "cell_type": "markdown",
   "metadata": {},
   "source": [
    "**Getting down to business**"
   ]
  },
  {
   "cell_type": "code",
   "execution_count": 25,
   "metadata": {},
   "outputs": [],
   "source": [
    "action_movies = df[df.action == 1]\n",
    "crime_movies = df[df.crime == 1]\n",
    "drama_movies = df[df.drama == 1]\n",
    "biography_movies = df[df.biography == 1]\n",
    "comedy_movies = df[df.comedy == 1]\n",
    "fantasy_movies = df[df.fantasy == 1]\n",
    "horror_movies = df[df.horror == 1]\n",
    "thriller_movies = df[df.thriller == 1]\n",
    "adventure_movies = df[df.adventure == 1]\n",
    "animation_movies = df[df.animation == 1]\n",
    "documentary_movies = df[df.documentary == 1]\n",
    "history_movies = df[df.history == 1]\n",
    "mystery_movies = df[df.mystery == 1]\n",
    "scifi_movies = df[df.scifi == 1]\n",
    "romance_movies = df[df.romance == 1]\n",
    "family_movies = df[df.family == 1]\n",
    "war_movies = df[df.war == 1]\n",
    "music_movies = df[df.music == 1]\n",
    "sport_movies = df[df.sport == 1]\n",
    "western_movies = df[df.western == 1]\n",
    "musical_movies = df[df.musical == 1]\n",
    "adult_movies = df[df.adult == 1]\n",
    "news_movies = df[df.news == 1]\n",
    "talk_show_movies = df[df.talk_show == 1]\n",
    "reality_TV_movies = df[df.reality_TV == 1]\n",
    "game_show_movies = df[df.game_show == 1]\n",
    "short_movies = df[df.short == 1]"
   ]
  },
  {
   "cell_type": "markdown",
   "metadata": {},
   "source": [
    "Note: We're not dealing with adult movies (3 samples), talk shows (0 sample), reality TV's (17 samples), game shows (2 samples), and short movies (1 sample) due to not having enough data in those categories."
   ]
  },
  {
   "cell_type": "code",
   "execution_count": 26,
   "metadata": {},
   "outputs": [],
   "source": [
    "list_movies = [action_movies, crime_movies, drama_movies, biography_movies, comedy_movies, fantasy_movies,\n",
    "               horror_movies, thriller_movies, adventure_movies, animation_movies, documentary_movies,\n",
    "               history_movies, mystery_movies, scifi_movies, romance_movies, family_movies, war_movies,\n",
    "               music_movies, sport_movies, western_movies, musical_movies, news_movies]\n",
    "\n",
    "list_genres_names_new = [\"action\", \"crime\", \"drama\", \"biography\", \"comedy\", \"fantasy\", \"horror\", \"thriller\",\n",
    "                         \"adventure\", \"animation\", \"documentary\", \"history\", \"mystery\", \"scifi\", \"romance\",\n",
    "                         \"family\", \"war\", \"music\", \"sport\", \"western\", \"musical\", \"news\"]"
   ]
  },
  {
   "cell_type": "markdown",
   "metadata": {},
   "source": [
    "Find the means of different genres' average ratings"
   ]
  },
  {
   "cell_type": "code",
   "execution_count": 27,
   "metadata": {},
   "outputs": [],
   "source": [
    "list_movies_ave_rate_mean = [action_movies.averagerating.mean(), crime_movies.averagerating.mean(),\n",
    "                             drama_movies.averagerating.mean(), biography_movies.averagerating.mean(),\n",
    "                             comedy_movies.averagerating.mean(), fantasy_movies.averagerating.mean(),\n",
    "                             horror_movies.averagerating.mean(), thriller_movies.averagerating.mean(),\n",
    "                             adventure_movies.averagerating.mean(), animation_movies.averagerating.mean(),\n",
    "                             documentary_movies.averagerating.mean(), history_movies.averagerating.mean(),\n",
    "                             mystery_movies.averagerating.mean(), scifi_movies.averagerating.mean(),\n",
    "                             romance_movies.averagerating.mean(), family_movies.averagerating.mean(),\n",
    "                             war_movies.averagerating.mean(), music_movies.averagerating.mean(),\n",
    "                             sport_movies.averagerating.mean(), western_movies.averagerating.mean(),\n",
    "                             musical_movies.averagerating.mean(), news_movies.averagerating.mean()]\n",
    "\n",
    "zipped_pairs = list(zip(list_movies_ave_rate_mean, list_genres_names_new))\n",
    "zipped_pairs.sort(reverse=True)\n",
    "names_mean = []\n",
    "list_mean = []\n",
    "for i in zipped_pairs:\n",
    "    list_mean.append(i[0])\n",
    "    names_mean.append(i[1])"
   ]
  },
  {
   "cell_type": "markdown",
   "metadata": {},
   "source": [
    "Find the variances of different genres' average ratings"
   ]
  },
  {
   "cell_type": "code",
   "execution_count": 28,
   "metadata": {},
   "outputs": [],
   "source": [
    "list_movies_ave_rate_variance = [action_movies.averagerating.var(), crime_movies.averagerating.var(),\n",
    "                                 drama_movies.averagerating.var(), biography_movies.averagerating.var(),\n",
    "                                 comedy_movies.averagerating.var(), fantasy_movies.averagerating.var(),\n",
    "                                 horror_movies.averagerating.var(), thriller_movies.averagerating.var(),\n",
    "                                 adventure_movies.averagerating.var(), animation_movies.averagerating.var(),\n",
    "                                 documentary_movies.averagerating.var(), history_movies.averagerating.var(),\n",
    "                                 mystery_movies.averagerating.var(), scifi_movies.averagerating.var(),\n",
    "                                 romance_movies.averagerating.var(), family_movies.averagerating.var(),\n",
    "                                 war_movies.averagerating.var(), music_movies.averagerating.var(),\n",
    "                                 sport_movies.averagerating.var(), western_movies.averagerating.var(),\n",
    "                                 musical_movies.averagerating.var(), news_movies.averagerating.var()]\n",
    "\n",
    "zipped_pairs = list(zip(list_movies_ave_rate_variance, list_genres_names_new))\n",
    "zipped_pairs.sort()\n",
    "names_var = []\n",
    "list_var = []\n",
    "for i in zipped_pairs:\n",
    "    list_var.append(i[0])\n",
    "    names_var.append(i[1])"
   ]
  },
  {
   "cell_type": "markdown",
   "metadata": {},
   "source": [
    "Plot bar plots of means and variances"
   ]
  },
  {
   "cell_type": "code",
   "execution_count": 29,
   "metadata": {},
   "outputs": [
    {
     "data": {
      "image/png": "[encoded data removed]",
      "text/plain": [
       "<Figure size 720x864 with 2 Axes>"
      ]
     },
     "metadata": {
      "needs_background": "light"
     },
     "output_type": "display_data"
    }
   ],
   "source": [
    "fig = plt.figure(figsize=(10,12))\n",
    "\n",
    "ax = fig.add_subplot(211)\n",
    "ax.set_xticks(range(22))\n",
    "ax.set_xticklabels(names_mean, rotation=\"vertical\")\n",
    "plt.bar(range(22), list_mean)\n",
    "ax.set_title(\"Average Ratings vs. Genres (Mean)\")\n",
    "\n",
    "ax = fig.add_subplot(212)\n",
    "ax.set_xticks(range(22))\n",
    "ax.set_xticklabels(names_var, rotation=\"vertical\")\n",
    "plt.bar(range(22), list_var)\n",
    "ax.set_title(\"Average Ratings vs. Genres (Variance)\")\n",
    "\n",
    "plt.subplots_adjust(hspace=0.4)\n",
    "\n",
    "plt.show()"
   ]
  },
  {
   "cell_type": "markdown",
   "metadata": {},
   "source": [
    "Plot final chart providing actionable insight"
   ]
  },
  {
   "cell_type": "code",
   "execution_count": 30,
   "metadata": {},
   "outputs": [
    {
     "data": {
      "image/png": "[encoded data removed]",
      "text/plain": [
       "<Figure size 576x576 with 1 Axes>"
      ]
     },
     "metadata": {
      "needs_background": "light"
     },
     "output_type": "display_data"
    }
   ],
   "source": [
    "fig = plt.figure(figsize=(8,8))\n",
    "sns.regplot(list_movies_ave_rate_variance, list_movies_ave_rate_mean);\n",
    "plt.title(\"Different Genres' Average Ratings - Mean vs. Variance\");\n",
    "plt.xlabel(\"Variance\");\n",
    "plt.ylabel(\"Mean\");"
   ]
  },
  {
   "cell_type": "markdown",
   "metadata": {},
   "source": [
    "**Conclusion:** The points at the top left of the graph represent the genres that have stable and high average ratings. Those genres are: news, biography, documentary, and history. Interestingly, they all focus on (hopefully) facts. We should focus on these genres."
   ]
  },
  {
   "cell_type": "markdown",
   "metadata": {},
   "source": [
    "------------------"
   ]
  },
  {
   "cell_type": "markdown",
   "metadata": {},
   "source": [
    "## Third factor:\n",
    "### Crew analysis"
   ]
  },
  {
   "cell_type": "markdown",
   "metadata": {},
   "source": [
    "**The first data set**"
   ]
  },
  {
   "cell_type": "markdown",
   "metadata": {},
   "source": [
    "Source: [IMDB](https://www.imdb.com/interfaces/)"
   ]
  },
  {
   "cell_type": "code",
   "execution_count": 31,
   "metadata": {},
   "outputs": [],
   "source": [
    "title_principals = pd.read_csv(\"data/imdb.title.principals.csv.gz\")"
   ]
  },
  {
   "cell_type": "markdown",
   "metadata": {},
   "source": [
    "Check it out"
   ]
  },
  {
   "cell_type": "code",
   "execution_count": 32,
   "metadata": {},
   "outputs": [
    {
     "name": "stdout",
     "output_type": "stream",
     "text": [
      "<class 'pandas.core.frame.DataFrame'>\n",
      "RangeIndex: 1028186 entries, 0 to 1028185\n",
      "Data columns (total 6 columns):\n",
      "tconst        1028186 non-null object\n",
      "ordering      1028186 non-null int64\n",
      "nconst        1028186 non-null object\n",
      "category      1028186 non-null object\n",
      "job           177684 non-null object\n",
      "characters    393360 non-null object\n",
      "dtypes: int64(1), object(5)\n",
      "memory usage: 47.1+ MB\n"
     ]
    }
   ],
   "source": [
    "title_principals.info()"
   ]
  },
  {
   "cell_type": "markdown",
   "metadata": {},
   "source": [
    "We don't need the ordering, job, and characters columns"
   ]
  },
  {
   "cell_type": "code",
   "execution_count": 33,
   "metadata": {},
   "outputs": [],
   "source": [
    "title_principals.drop(columns=[\"ordering\", \"job\", \"characters\"], inplace=True)"
   ]
  },
  {
   "cell_type": "markdown",
   "metadata": {},
   "source": [
    "Let's look at the data frame"
   ]
  },
  {
   "cell_type": "code",
   "execution_count": 34,
   "metadata": {},
   "outputs": [
    {
     "data": {
      "text/html": [
       "<div>\n",
       "<style scoped>\n",
       "    .dataframe tbody tr th:only-of-type {\n",
       "        vertical-align: middle;\n",
       "    }\n",
       "\n",
       "    .dataframe tbody tr th {\n",
       "        vertical-align: top;\n",
       "    }\n",
       "\n",
       "    .dataframe thead th {\n",
       "        text-align: right;\n",
       "    }\n",
       "</style>\n",
       "<table border=\"1\" class=\"dataframe\">\n",
       "  <thead>\n",
       "    <tr style=\"text-align: right;\">\n",
       "      <th></th>\n",
       "      <th>tconst</th>\n",
       "      <th>nconst</th>\n",
       "      <th>category</th>\n",
       "    </tr>\n",
       "  </thead>\n",
       "  <tbody>\n",
       "    <tr>\n",
       "      <th>0</th>\n",
       "      <td>tt0111414</td>\n",
       "      <td>nm0246005</td>\n",
       "      <td>actor</td>\n",
       "    </tr>\n",
       "    <tr>\n",
       "      <th>1</th>\n",
       "      <td>tt0111414</td>\n",
       "      <td>nm0398271</td>\n",
       "      <td>director</td>\n",
       "    </tr>\n",
       "    <tr>\n",
       "      <th>2</th>\n",
       "      <td>tt0111414</td>\n",
       "      <td>nm3739909</td>\n",
       "      <td>producer</td>\n",
       "    </tr>\n",
       "    <tr>\n",
       "      <th>3</th>\n",
       "      <td>tt0323808</td>\n",
       "      <td>nm0059247</td>\n",
       "      <td>editor</td>\n",
       "    </tr>\n",
       "    <tr>\n",
       "      <th>4</th>\n",
       "      <td>tt0323808</td>\n",
       "      <td>nm3579312</td>\n",
       "      <td>actress</td>\n",
       "    </tr>\n",
       "  </tbody>\n",
       "</table>\n",
       "</div>"
      ],
      "text/plain": [
       "      tconst     nconst  category\n",
       "0  tt0111414  nm0246005     actor\n",
       "1  tt0111414  nm0398271  director\n",
       "2  tt0111414  nm3739909  producer\n",
       "3  tt0323808  nm0059247    editor\n",
       "4  tt0323808  nm3579312   actress"
      ]
     },
     "execution_count": 34,
     "metadata": {},
     "output_type": "execute_result"
    }
   ],
   "source": [
    "title_principals.head()"
   ]
  },
  {
   "cell_type": "markdown",
   "metadata": {},
   "source": [
    "**The second data set**"
   ]
  },
  {
   "cell_type": "markdown",
   "metadata": {},
   "source": [
    "Source: [IMDB](https://www.imdb.com/interfaces/)"
   ]
  },
  {
   "cell_type": "code",
   "execution_count": 35,
   "metadata": {},
   "outputs": [],
   "source": [
    "title_ratings = pd.read_csv(\"data/imdb.title.ratings.csv.gz\")\n"
   ]
  },
  {
   "cell_type": "markdown",
   "metadata": {},
   "source": [
    "Check it out"
   ]
  },
  {
   "cell_type": "code",
   "execution_count": 36,
   "metadata": {},
   "outputs": [
    {
     "name": "stdout",
     "output_type": "stream",
     "text": [
      "<class 'pandas.core.frame.DataFrame'>\n",
      "RangeIndex: 73856 entries, 0 to 73855\n",
      "Data columns (total 3 columns):\n",
      "tconst           73856 non-null object\n",
      "averagerating    73856 non-null float64\n",
      "numvotes         73856 non-null int64\n",
      "dtypes: float64(1), int64(1), object(1)\n",
      "memory usage: 1.7+ MB\n"
     ]
    }
   ],
   "source": [
    "title_ratings.info()"
   ]
  },
  {
   "cell_type": "markdown",
   "metadata": {},
   "source": [
    "We don't need the numvotes columns"
   ]
  },
  {
   "cell_type": "code",
   "execution_count": 37,
   "metadata": {},
   "outputs": [],
   "source": [
    "title_ratings.drop(columns=\"numvotes\", inplace=True)"
   ]
  },
  {
   "cell_type": "markdown",
   "metadata": {},
   "source": [
    "Let's look at the data frame"
   ]
  },
  {
   "cell_type": "code",
   "execution_count": 38,
   "metadata": {},
   "outputs": [
    {
     "data": {
      "text/html": [
       "<div>\n",
       "<style scoped>\n",
       "    .dataframe tbody tr th:only-of-type {\n",
       "        vertical-align: middle;\n",
       "    }\n",
       "\n",
       "    .dataframe tbody tr th {\n",
       "        vertical-align: top;\n",
       "    }\n",
       "\n",
       "    .dataframe thead th {\n",
       "        text-align: right;\n",
       "    }\n",
       "</style>\n",
       "<table border=\"1\" class=\"dataframe\">\n",
       "  <thead>\n",
       "    <tr style=\"text-align: right;\">\n",
       "      <th></th>\n",
       "      <th>tconst</th>\n",
       "      <th>averagerating</th>\n",
       "    </tr>\n",
       "  </thead>\n",
       "  <tbody>\n",
       "    <tr>\n",
       "      <th>0</th>\n",
       "      <td>tt10356526</td>\n",
       "      <td>8.3</td>\n",
       "    </tr>\n",
       "    <tr>\n",
       "      <th>1</th>\n",
       "      <td>tt10384606</td>\n",
       "      <td>8.9</td>\n",
       "    </tr>\n",
       "    <tr>\n",
       "      <th>2</th>\n",
       "      <td>tt1042974</td>\n",
       "      <td>6.4</td>\n",
       "    </tr>\n",
       "    <tr>\n",
       "      <th>3</th>\n",
       "      <td>tt1043726</td>\n",
       "      <td>4.2</td>\n",
       "    </tr>\n",
       "    <tr>\n",
       "      <th>4</th>\n",
       "      <td>tt1060240</td>\n",
       "      <td>6.5</td>\n",
       "    </tr>\n",
       "  </tbody>\n",
       "</table>\n",
       "</div>"
      ],
      "text/plain": [
       "       tconst  averagerating\n",
       "0  tt10356526            8.3\n",
       "1  tt10384606            8.9\n",
       "2   tt1042974            6.4\n",
       "3   tt1043726            4.2\n",
       "4   tt1060240            6.5"
      ]
     },
     "execution_count": 38,
     "metadata": {},
     "output_type": "execute_result"
    }
   ],
   "source": [
    "title_ratings.head()"
   ]
  },
  {
   "cell_type": "markdown",
   "metadata": {},
   "source": [
    "**Merging the two data frames**"
   ]
  },
  {
   "cell_type": "code",
   "execution_count": 39,
   "metadata": {},
   "outputs": [],
   "source": [
    "df = title_principals.merge(title_ratings, on=\"tconst\", how=\"inner\")"
   ]
  },
  {
   "cell_type": "markdown",
   "metadata": {},
   "source": [
    "Check it out"
   ]
  },
  {
   "cell_type": "code",
   "execution_count": 40,
   "metadata": {},
   "outputs": [
    {
     "name": "stdout",
     "output_type": "stream",
     "text": [
      "<class 'pandas.core.frame.DataFrame'>\n",
      "Int64Index: 629755 entries, 0 to 629754\n",
      "Data columns (total 4 columns):\n",
      "tconst           629755 non-null object\n",
      "nconst           629755 non-null object\n",
      "category         629755 non-null object\n",
      "averagerating    629755 non-null float64\n",
      "dtypes: float64(1), object(3)\n",
      "memory usage: 24.0+ MB\n"
     ]
    }
   ],
   "source": [
    "df.info()"
   ]
  },
  {
   "cell_type": "code",
   "execution_count": 41,
   "metadata": {},
   "outputs": [
    {
     "data": {
      "text/html": [
       "<div>\n",
       "<style scoped>\n",
       "    .dataframe tbody tr th:only-of-type {\n",
       "        vertical-align: middle;\n",
       "    }\n",
       "\n",
       "    .dataframe tbody tr th {\n",
       "        vertical-align: top;\n",
       "    }\n",
       "\n",
       "    .dataframe thead th {\n",
       "        text-align: right;\n",
       "    }\n",
       "</style>\n",
       "<table border=\"1\" class=\"dataframe\">\n",
       "  <thead>\n",
       "    <tr style=\"text-align: right;\">\n",
       "      <th></th>\n",
       "      <th>tconst</th>\n",
       "      <th>nconst</th>\n",
       "      <th>category</th>\n",
       "      <th>averagerating</th>\n",
       "    </tr>\n",
       "  </thead>\n",
       "  <tbody>\n",
       "    <tr>\n",
       "      <th>9562</th>\n",
       "      <td>tt2073120</td>\n",
       "      <td>nm1794850</td>\n",
       "      <td>actor</td>\n",
       "      <td>7.0</td>\n",
       "    </tr>\n",
       "    <tr>\n",
       "      <th>112399</th>\n",
       "      <td>tt2258513</td>\n",
       "      <td>nm3206691</td>\n",
       "      <td>actor</td>\n",
       "      <td>7.0</td>\n",
       "    </tr>\n",
       "    <tr>\n",
       "      <th>158948</th>\n",
       "      <td>tt2368182</td>\n",
       "      <td>nm3772098</td>\n",
       "      <td>actor</td>\n",
       "      <td>6.1</td>\n",
       "    </tr>\n",
       "    <tr>\n",
       "      <th>254979</th>\n",
       "      <td>tt3503838</td>\n",
       "      <td>nm3895623</td>\n",
       "      <td>actress</td>\n",
       "      <td>5.1</td>\n",
       "    </tr>\n",
       "    <tr>\n",
       "      <th>307463</th>\n",
       "      <td>tt3246048</td>\n",
       "      <td>nm5992239</td>\n",
       "      <td>actress</td>\n",
       "      <td>7.4</td>\n",
       "    </tr>\n",
       "    <tr>\n",
       "      <th>329694</th>\n",
       "      <td>tt3153648</td>\n",
       "      <td>nm1289422</td>\n",
       "      <td>actress</td>\n",
       "      <td>7.6</td>\n",
       "    </tr>\n",
       "    <tr>\n",
       "      <th>368412</th>\n",
       "      <td>tt2473710</td>\n",
       "      <td>nm5241644</td>\n",
       "      <td>actor</td>\n",
       "      <td>6.9</td>\n",
       "    </tr>\n",
       "    <tr>\n",
       "      <th>439819</th>\n",
       "      <td>tt5473578</td>\n",
       "      <td>nm0149828</td>\n",
       "      <td>actress</td>\n",
       "      <td>5.0</td>\n",
       "    </tr>\n",
       "    <tr>\n",
       "      <th>445896</th>\n",
       "      <td>tt6094992</td>\n",
       "      <td>nm8204953</td>\n",
       "      <td>producer</td>\n",
       "      <td>5.2</td>\n",
       "    </tr>\n",
       "    <tr>\n",
       "      <th>468618</th>\n",
       "      <td>tt6549064</td>\n",
       "      <td>nm0244327</td>\n",
       "      <td>actress</td>\n",
       "      <td>4.5</td>\n",
       "    </tr>\n",
       "    <tr>\n",
       "      <th>471173</th>\n",
       "      <td>tt6423408</td>\n",
       "      <td>nm3895623</td>\n",
       "      <td>actress</td>\n",
       "      <td>3.9</td>\n",
       "    </tr>\n",
       "    <tr>\n",
       "      <th>475318</th>\n",
       "      <td>tt5282110</td>\n",
       "      <td>nm3414469</td>\n",
       "      <td>actress</td>\n",
       "      <td>5.4</td>\n",
       "    </tr>\n",
       "    <tr>\n",
       "      <th>485535</th>\n",
       "      <td>tt4537170</td>\n",
       "      <td>nm0172826</td>\n",
       "      <td>actor</td>\n",
       "      <td>7.0</td>\n",
       "    </tr>\n",
       "    <tr>\n",
       "      <th>492335</th>\n",
       "      <td>tt5974592</td>\n",
       "      <td>nm7129726</td>\n",
       "      <td>actress</td>\n",
       "      <td>8.1</td>\n",
       "    </tr>\n",
       "    <tr>\n",
       "      <th>496214</th>\n",
       "      <td>tt6971730</td>\n",
       "      <td>nm3782659</td>\n",
       "      <td>actress</td>\n",
       "      <td>5.2</td>\n",
       "    </tr>\n",
       "    <tr>\n",
       "      <th>509530</th>\n",
       "      <td>tt6664852</td>\n",
       "      <td>nm0605583</td>\n",
       "      <td>actor</td>\n",
       "      <td>6.6</td>\n",
       "    </tr>\n",
       "    <tr>\n",
       "      <th>511036</th>\n",
       "      <td>tt5613920</td>\n",
       "      <td>nm3996622</td>\n",
       "      <td>actor</td>\n",
       "      <td>7.4</td>\n",
       "    </tr>\n",
       "    <tr>\n",
       "      <th>516496</th>\n",
       "      <td>tt5489544</td>\n",
       "      <td>nm9161308</td>\n",
       "      <td>actor</td>\n",
       "      <td>3.8</td>\n",
       "    </tr>\n",
       "    <tr>\n",
       "      <th>556449</th>\n",
       "      <td>tt8942260</td>\n",
       "      <td>nm2442121</td>\n",
       "      <td>actress</td>\n",
       "      <td>6.1</td>\n",
       "    </tr>\n",
       "    <tr>\n",
       "      <th>570969</th>\n",
       "      <td>tt8108180</td>\n",
       "      <td>nm0849468</td>\n",
       "      <td>actor</td>\n",
       "      <td>7.7</td>\n",
       "    </tr>\n",
       "  </tbody>\n",
       "</table>\n",
       "</div>"
      ],
      "text/plain": [
       "           tconst     nconst  category  averagerating\n",
       "9562    tt2073120  nm1794850     actor            7.0\n",
       "112399  tt2258513  nm3206691     actor            7.0\n",
       "158948  tt2368182  nm3772098     actor            6.1\n",
       "254979  tt3503838  nm3895623   actress            5.1\n",
       "307463  tt3246048  nm5992239   actress            7.4\n",
       "329694  tt3153648  nm1289422   actress            7.6\n",
       "368412  tt2473710  nm5241644     actor            6.9\n",
       "439819  tt5473578  nm0149828   actress            5.0\n",
       "445896  tt6094992  nm8204953  producer            5.2\n",
       "468618  tt6549064  nm0244327   actress            4.5\n",
       "471173  tt6423408  nm3895623   actress            3.9\n",
       "475318  tt5282110  nm3414469   actress            5.4\n",
       "485535  tt4537170  nm0172826     actor            7.0\n",
       "492335  tt5974592  nm7129726   actress            8.1\n",
       "496214  tt6971730  nm3782659   actress            5.2\n",
       "509530  tt6664852  nm0605583     actor            6.6\n",
       "511036  tt5613920  nm3996622     actor            7.4\n",
       "516496  tt5489544  nm9161308     actor            3.8\n",
       "556449  tt8942260  nm2442121   actress            6.1\n",
       "570969  tt8108180  nm0849468     actor            7.7"
      ]
     },
     "execution_count": 41,
     "metadata": {},
     "output_type": "execute_result"
    }
   ],
   "source": [
    "df[df.duplicated()]"
   ]
  },
  {
   "cell_type": "markdown",
   "metadata": {},
   "source": [
    "Let's look at the data frame"
   ]
  },
  {
   "cell_type": "code",
   "execution_count": 42,
   "metadata": {},
   "outputs": [
    {
     "data": {
      "text/html": [
       "<div>\n",
       "<style scoped>\n",
       "    .dataframe tbody tr th:only-of-type {\n",
       "        vertical-align: middle;\n",
       "    }\n",
       "\n",
       "    .dataframe tbody tr th {\n",
       "        vertical-align: top;\n",
       "    }\n",
       "\n",
       "    .dataframe thead th {\n",
       "        text-align: right;\n",
       "    }\n",
       "</style>\n",
       "<table border=\"1\" class=\"dataframe\">\n",
       "  <thead>\n",
       "    <tr style=\"text-align: right;\">\n",
       "      <th></th>\n",
       "      <th>tconst</th>\n",
       "      <th>nconst</th>\n",
       "      <th>category</th>\n",
       "      <th>averagerating</th>\n",
       "    </tr>\n",
       "  </thead>\n",
       "  <tbody>\n",
       "    <tr>\n",
       "      <th>0</th>\n",
       "      <td>tt0323808</td>\n",
       "      <td>nm0059247</td>\n",
       "      <td>editor</td>\n",
       "      <td>3.9</td>\n",
       "    </tr>\n",
       "    <tr>\n",
       "      <th>1</th>\n",
       "      <td>tt0323808</td>\n",
       "      <td>nm3579312</td>\n",
       "      <td>actress</td>\n",
       "      <td>3.9</td>\n",
       "    </tr>\n",
       "    <tr>\n",
       "      <th>2</th>\n",
       "      <td>tt0323808</td>\n",
       "      <td>nm2694680</td>\n",
       "      <td>actor</td>\n",
       "      <td>3.9</td>\n",
       "    </tr>\n",
       "    <tr>\n",
       "      <th>3</th>\n",
       "      <td>tt0323808</td>\n",
       "      <td>nm0574615</td>\n",
       "      <td>actor</td>\n",
       "      <td>3.9</td>\n",
       "    </tr>\n",
       "    <tr>\n",
       "      <th>4</th>\n",
       "      <td>tt0323808</td>\n",
       "      <td>nm0502652</td>\n",
       "      <td>actress</td>\n",
       "      <td>3.9</td>\n",
       "    </tr>\n",
       "  </tbody>\n",
       "</table>\n",
       "</div>"
      ],
      "text/plain": [
       "      tconst     nconst category  averagerating\n",
       "0  tt0323808  nm0059247   editor            3.9\n",
       "1  tt0323808  nm3579312  actress            3.9\n",
       "2  tt0323808  nm2694680    actor            3.9\n",
       "3  tt0323808  nm0574615    actor            3.9\n",
       "4  tt0323808  nm0502652  actress            3.9"
      ]
     },
     "execution_count": 42,
     "metadata": {},
     "output_type": "execute_result"
    }
   ],
   "source": [
    "df.head()"
   ]
  },
  {
   "cell_type": "markdown",
   "metadata": {},
   "source": [
    "**The third data set**"
   ]
  },
  {
   "cell_type": "markdown",
   "metadata": {},
   "source": [
    "Source: [IMDB](https://www.imdb.com/interfaces/)"
   ]
  },
  {
   "cell_type": "code",
   "execution_count": 43,
   "metadata": {},
   "outputs": [],
   "source": [
    "name_basics = pd.read_csv(\"data/imdb.name.basics.csv.gz\")"
   ]
  },
  {
   "cell_type": "markdown",
   "metadata": {},
   "source": [
    "Check it out"
   ]
  },
  {
   "cell_type": "code",
   "execution_count": 44,
   "metadata": {},
   "outputs": [
    {
     "name": "stdout",
     "output_type": "stream",
     "text": [
      "<class 'pandas.core.frame.DataFrame'>\n",
      "RangeIndex: 606648 entries, 0 to 606647\n",
      "Data columns (total 6 columns):\n",
      "nconst                606648 non-null object\n",
      "primary_name          606648 non-null object\n",
      "birth_year            82736 non-null float64\n",
      "death_year            6783 non-null float64\n",
      "primary_profession    555308 non-null object\n",
      "known_for_titles      576444 non-null object\n",
      "dtypes: float64(2), object(4)\n",
      "memory usage: 27.8+ MB\n"
     ]
    }
   ],
   "source": [
    "name_basics.info()"
   ]
  },
  {
   "cell_type": "code",
   "execution_count": 45,
   "metadata": {},
   "outputs": [
    {
     "data": {
      "text/plain": [
       "599865"
      ]
     },
     "execution_count": 45,
     "metadata": {},
     "output_type": "execute_result"
    }
   ],
   "source": [
    "name_basics.death_year.isna().sum()"
   ]
  },
  {
   "cell_type": "code",
   "execution_count": 46,
   "metadata": {},
   "outputs": [
    {
     "data": {
      "text/plain": [
       "98.88188867349764"
      ]
     },
     "execution_count": 46,
     "metadata": {},
     "output_type": "execute_result"
    }
   ],
   "source": [
    "name_basics.death_year.isna().sum() / len(name_basics) * 100"
   ]
  },
  {
   "cell_type": "markdown",
   "metadata": {},
   "source": [
    "We don't want the people that have already passed. Can't hire them..."
   ]
  },
  {
   "cell_type": "code",
   "execution_count": 47,
   "metadata": {},
   "outputs": [],
   "source": [
    "name_basics = name_basics[name_basics.death_year.isna()]"
   ]
  },
  {
   "cell_type": "markdown",
   "metadata": {},
   "source": [
    "We just need the names"
   ]
  },
  {
   "cell_type": "code",
   "execution_count": 48,
   "metadata": {},
   "outputs": [],
   "source": [
    "name_basics.drop(columns=[\"birth_year\", \"death_year\", \"primary_profession\", \"known_for_titles\"], inplace=True)"
   ]
  },
  {
   "cell_type": "markdown",
   "metadata": {},
   "source": [
    "Let's look at the data frame"
   ]
  },
  {
   "cell_type": "code",
   "execution_count": 49,
   "metadata": {},
   "outputs": [
    {
     "data": {
      "text/html": [
       "<div>\n",
       "<style scoped>\n",
       "    .dataframe tbody tr th:only-of-type {\n",
       "        vertical-align: middle;\n",
       "    }\n",
       "\n",
       "    .dataframe tbody tr th {\n",
       "        vertical-align: top;\n",
       "    }\n",
       "\n",
       "    .dataframe thead th {\n",
       "        text-align: right;\n",
       "    }\n",
       "</style>\n",
       "<table border=\"1\" class=\"dataframe\">\n",
       "  <thead>\n",
       "    <tr style=\"text-align: right;\">\n",
       "      <th></th>\n",
       "      <th>nconst</th>\n",
       "      <th>primary_name</th>\n",
       "    </tr>\n",
       "  </thead>\n",
       "  <tbody>\n",
       "    <tr>\n",
       "      <th>0</th>\n",
       "      <td>nm0061671</td>\n",
       "      <td>Mary Ellen Bauder</td>\n",
       "    </tr>\n",
       "    <tr>\n",
       "      <th>1</th>\n",
       "      <td>nm0061865</td>\n",
       "      <td>Joseph Bauer</td>\n",
       "    </tr>\n",
       "    <tr>\n",
       "      <th>2</th>\n",
       "      <td>nm0062070</td>\n",
       "      <td>Bruce Baum</td>\n",
       "    </tr>\n",
       "    <tr>\n",
       "      <th>3</th>\n",
       "      <td>nm0062195</td>\n",
       "      <td>Axel Baumann</td>\n",
       "    </tr>\n",
       "    <tr>\n",
       "      <th>4</th>\n",
       "      <td>nm0062798</td>\n",
       "      <td>Pete Baxter</td>\n",
       "    </tr>\n",
       "  </tbody>\n",
       "</table>\n",
       "</div>"
      ],
      "text/plain": [
       "      nconst       primary_name\n",
       "0  nm0061671  Mary Ellen Bauder\n",
       "1  nm0061865       Joseph Bauer\n",
       "2  nm0062070         Bruce Baum\n",
       "3  nm0062195       Axel Baumann\n",
       "4  nm0062798        Pete Baxter"
      ]
     },
     "execution_count": 49,
     "metadata": {},
     "output_type": "execute_result"
    }
   ],
   "source": [
    "name_basics.head()"
   ]
  },
  {
   "cell_type": "markdown",
   "metadata": {},
   "source": [
    "**More merging**"
   ]
  },
  {
   "cell_type": "code",
   "execution_count": 50,
   "metadata": {},
   "outputs": [],
   "source": [
    "df = df.merge(name_basics, on=\"nconst\", how=\"inner\")"
   ]
  },
  {
   "cell_type": "markdown",
   "metadata": {},
   "source": [
    "Check it out"
   ]
  },
  {
   "cell_type": "code",
   "execution_count": 51,
   "metadata": {},
   "outputs": [
    {
     "name": "stdout",
     "output_type": "stream",
     "text": [
      "<class 'pandas.core.frame.DataFrame'>\n",
      "Int64Index: 621366 entries, 0 to 621365\n",
      "Data columns (total 5 columns):\n",
      "tconst           621366 non-null object\n",
      "nconst           621366 non-null object\n",
      "category         621366 non-null object\n",
      "averagerating    621366 non-null float64\n",
      "primary_name     621366 non-null object\n",
      "dtypes: float64(1), object(4)\n",
      "memory usage: 28.4+ MB\n"
     ]
    }
   ],
   "source": [
    "df.info()"
   ]
  },
  {
   "cell_type": "code",
   "execution_count": 52,
   "metadata": {},
   "outputs": [
    {
     "data": {
      "text/html": [
       "<div>\n",
       "<style scoped>\n",
       "    .dataframe tbody tr th:only-of-type {\n",
       "        vertical-align: middle;\n",
       "    }\n",
       "\n",
       "    .dataframe tbody tr th {\n",
       "        vertical-align: top;\n",
       "    }\n",
       "\n",
       "    .dataframe thead th {\n",
       "        text-align: right;\n",
       "    }\n",
       "</style>\n",
       "<table border=\"1\" class=\"dataframe\">\n",
       "  <thead>\n",
       "    <tr style=\"text-align: right;\">\n",
       "      <th></th>\n",
       "      <th>tconst</th>\n",
       "      <th>nconst</th>\n",
       "      <th>category</th>\n",
       "      <th>averagerating</th>\n",
       "      <th>primary_name</th>\n",
       "    </tr>\n",
       "  </thead>\n",
       "  <tbody>\n",
       "    <tr>\n",
       "      <th>38723</th>\n",
       "      <td>tt2073120</td>\n",
       "      <td>nm1794850</td>\n",
       "      <td>actor</td>\n",
       "      <td>7.0</td>\n",
       "      <td>David Chalmers</td>\n",
       "    </tr>\n",
       "    <tr>\n",
       "      <th>118859</th>\n",
       "      <td>tt6664852</td>\n",
       "      <td>nm0605583</td>\n",
       "      <td>actor</td>\n",
       "      <td>6.6</td>\n",
       "      <td>Robert Morin</td>\n",
       "    </tr>\n",
       "    <tr>\n",
       "      <th>180018</th>\n",
       "      <td>tt3503838</td>\n",
       "      <td>nm3895623</td>\n",
       "      <td>actress</td>\n",
       "      <td>5.1</td>\n",
       "      <td>Jacqueline Chong</td>\n",
       "    </tr>\n",
       "    <tr>\n",
       "      <th>180024</th>\n",
       "      <td>tt6423408</td>\n",
       "      <td>nm3895623</td>\n",
       "      <td>actress</td>\n",
       "      <td>3.9</td>\n",
       "      <td>Jacqueline Chong</td>\n",
       "    </tr>\n",
       "    <tr>\n",
       "      <th>187643</th>\n",
       "      <td>tt4537170</td>\n",
       "      <td>nm0172826</td>\n",
       "      <td>actor</td>\n",
       "      <td>7.0</td>\n",
       "      <td>Luigi Cozzi</td>\n",
       "    </tr>\n",
       "    <tr>\n",
       "      <th>247929</th>\n",
       "      <td>tt2258513</td>\n",
       "      <td>nm3206691</td>\n",
       "      <td>actor</td>\n",
       "      <td>7.0</td>\n",
       "      <td>Hasan Majuni</td>\n",
       "    </tr>\n",
       "    <tr>\n",
       "      <th>255412</th>\n",
       "      <td>tt6549064</td>\n",
       "      <td>nm0244327</td>\n",
       "      <td>actress</td>\n",
       "      <td>4.5</td>\n",
       "      <td>Dorra Zarrouk</td>\n",
       "    </tr>\n",
       "    <tr>\n",
       "      <th>302130</th>\n",
       "      <td>tt2368182</td>\n",
       "      <td>nm3772098</td>\n",
       "      <td>actor</td>\n",
       "      <td>6.1</td>\n",
       "      <td>Ross Everett</td>\n",
       "    </tr>\n",
       "    <tr>\n",
       "      <th>344691</th>\n",
       "      <td>tt8942260</td>\n",
       "      <td>nm2442121</td>\n",
       "      <td>actress</td>\n",
       "      <td>6.1</td>\n",
       "      <td>Ivy Yi-Han Chen</td>\n",
       "    </tr>\n",
       "    <tr>\n",
       "      <th>412852</th>\n",
       "      <td>tt8108180</td>\n",
       "      <td>nm0849468</td>\n",
       "      <td>actor</td>\n",
       "      <td>7.7</td>\n",
       "      <td>Masashi Taniguchi</td>\n",
       "    </tr>\n",
       "    <tr>\n",
       "      <th>414506</th>\n",
       "      <td>tt5473578</td>\n",
       "      <td>nm0149828</td>\n",
       "      <td>actress</td>\n",
       "      <td>5.0</td>\n",
       "      <td>Sudiptaa Chakraborty</td>\n",
       "    </tr>\n",
       "    <tr>\n",
       "      <th>436106</th>\n",
       "      <td>tt3246048</td>\n",
       "      <td>nm5992239</td>\n",
       "      <td>actress</td>\n",
       "      <td>7.4</td>\n",
       "      <td>Shawan Emer</td>\n",
       "    </tr>\n",
       "    <tr>\n",
       "      <th>452370</th>\n",
       "      <td>tt3153648</td>\n",
       "      <td>nm1289422</td>\n",
       "      <td>actress</td>\n",
       "      <td>7.6</td>\n",
       "      <td>Barbara Bacci</td>\n",
       "    </tr>\n",
       "    <tr>\n",
       "      <th>478389</th>\n",
       "      <td>tt2473710</td>\n",
       "      <td>nm5241644</td>\n",
       "      <td>actor</td>\n",
       "      <td>6.9</td>\n",
       "      <td>Yu Li</td>\n",
       "    </tr>\n",
       "    <tr>\n",
       "      <th>509493</th>\n",
       "      <td>tt5974592</td>\n",
       "      <td>nm7129726</td>\n",
       "      <td>actress</td>\n",
       "      <td>8.1</td>\n",
       "      <td>Chloe Brown</td>\n",
       "    </tr>\n",
       "    <tr>\n",
       "      <th>518515</th>\n",
       "      <td>tt6094992</td>\n",
       "      <td>nm8204953</td>\n",
       "      <td>producer</td>\n",
       "      <td>5.2</td>\n",
       "      <td>Nikhil Chaudhary</td>\n",
       "    </tr>\n",
       "    <tr>\n",
       "      <th>539495</th>\n",
       "      <td>tt5489544</td>\n",
       "      <td>nm9161308</td>\n",
       "      <td>actor</td>\n",
       "      <td>3.8</td>\n",
       "      <td>Sameer Deshpande</td>\n",
       "    </tr>\n",
       "    <tr>\n",
       "      <th>545066</th>\n",
       "      <td>tt5282110</td>\n",
       "      <td>nm3414469</td>\n",
       "      <td>actress</td>\n",
       "      <td>5.4</td>\n",
       "      <td>Mita Chatterjee</td>\n",
       "    </tr>\n",
       "    <tr>\n",
       "      <th>556547</th>\n",
       "      <td>tt6971730</td>\n",
       "      <td>nm3782659</td>\n",
       "      <td>actress</td>\n",
       "      <td>5.2</td>\n",
       "      <td>Ece Baykal</td>\n",
       "    </tr>\n",
       "    <tr>\n",
       "      <th>564366</th>\n",
       "      <td>tt5613920</td>\n",
       "      <td>nm3996622</td>\n",
       "      <td>actor</td>\n",
       "      <td>7.4</td>\n",
       "      <td>Thomas Brenneck</td>\n",
       "    </tr>\n",
       "  </tbody>\n",
       "</table>\n",
       "</div>"
      ],
      "text/plain": [
       "           tconst     nconst  category  averagerating          primary_name\n",
       "38723   tt2073120  nm1794850     actor            7.0        David Chalmers\n",
       "118859  tt6664852  nm0605583     actor            6.6          Robert Morin\n",
       "180018  tt3503838  nm3895623   actress            5.1      Jacqueline Chong\n",
       "180024  tt6423408  nm3895623   actress            3.9      Jacqueline Chong\n",
       "187643  tt4537170  nm0172826     actor            7.0           Luigi Cozzi\n",
       "247929  tt2258513  nm3206691     actor            7.0          Hasan Majuni\n",
       "255412  tt6549064  nm0244327   actress            4.5         Dorra Zarrouk\n",
       "302130  tt2368182  nm3772098     actor            6.1          Ross Everett\n",
       "344691  tt8942260  nm2442121   actress            6.1       Ivy Yi-Han Chen\n",
       "412852  tt8108180  nm0849468     actor            7.7     Masashi Taniguchi\n",
       "414506  tt5473578  nm0149828   actress            5.0  Sudiptaa Chakraborty\n",
       "436106  tt3246048  nm5992239   actress            7.4           Shawan Emer\n",
       "452370  tt3153648  nm1289422   actress            7.6         Barbara Bacci\n",
       "478389  tt2473710  nm5241644     actor            6.9                 Yu Li\n",
       "509493  tt5974592  nm7129726   actress            8.1           Chloe Brown\n",
       "518515  tt6094992  nm8204953  producer            5.2      Nikhil Chaudhary\n",
       "539495  tt5489544  nm9161308     actor            3.8      Sameer Deshpande\n",
       "545066  tt5282110  nm3414469   actress            5.4       Mita Chatterjee\n",
       "556547  tt6971730  nm3782659   actress            5.2            Ece Baykal\n",
       "564366  tt5613920  nm3996622     actor            7.4       Thomas Brenneck"
      ]
     },
     "execution_count": 52,
     "metadata": {},
     "output_type": "execute_result"
    }
   ],
   "source": [
    "df[df.duplicated()]"
   ]
  },
  {
   "cell_type": "markdown",
   "metadata": {},
   "source": [
    "Let's look at the data frame"
   ]
  },
  {
   "cell_type": "code",
   "execution_count": 53,
   "metadata": {},
   "outputs": [
    {
     "data": {
      "text/html": [
       "<div>\n",
       "<style scoped>\n",
       "    .dataframe tbody tr th:only-of-type {\n",
       "        vertical-align: middle;\n",
       "    }\n",
       "\n",
       "    .dataframe tbody tr th {\n",
       "        vertical-align: top;\n",
       "    }\n",
       "\n",
       "    .dataframe thead th {\n",
       "        text-align: right;\n",
       "    }\n",
       "</style>\n",
       "<table border=\"1\" class=\"dataframe\">\n",
       "  <thead>\n",
       "    <tr style=\"text-align: right;\">\n",
       "      <th></th>\n",
       "      <th>tconst</th>\n",
       "      <th>nconst</th>\n",
       "      <th>category</th>\n",
       "      <th>averagerating</th>\n",
       "      <th>primary_name</th>\n",
       "    </tr>\n",
       "  </thead>\n",
       "  <tbody>\n",
       "    <tr>\n",
       "      <th>0</th>\n",
       "      <td>tt0323808</td>\n",
       "      <td>nm0059247</td>\n",
       "      <td>editor</td>\n",
       "      <td>3.9</td>\n",
       "      <td>Sean Barton</td>\n",
       "    </tr>\n",
       "    <tr>\n",
       "      <th>1</th>\n",
       "      <td>tt2081348</td>\n",
       "      <td>nm0059247</td>\n",
       "      <td>editor</td>\n",
       "      <td>4.1</td>\n",
       "      <td>Sean Barton</td>\n",
       "    </tr>\n",
       "    <tr>\n",
       "      <th>2</th>\n",
       "      <td>tt1414378</td>\n",
       "      <td>nm0059247</td>\n",
       "      <td>editor</td>\n",
       "      <td>6.5</td>\n",
       "      <td>Sean Barton</td>\n",
       "    </tr>\n",
       "    <tr>\n",
       "      <th>3</th>\n",
       "      <td>tt2712990</td>\n",
       "      <td>nm0059247</td>\n",
       "      <td>editor</td>\n",
       "      <td>5.6</td>\n",
       "      <td>Sean Barton</td>\n",
       "    </tr>\n",
       "    <tr>\n",
       "      <th>4</th>\n",
       "      <td>tt2395207</td>\n",
       "      <td>nm0059247</td>\n",
       "      <td>editor</td>\n",
       "      <td>5.5</td>\n",
       "      <td>Sean Barton</td>\n",
       "    </tr>\n",
       "  </tbody>\n",
       "</table>\n",
       "</div>"
      ],
      "text/plain": [
       "      tconst     nconst category  averagerating primary_name\n",
       "0  tt0323808  nm0059247   editor            3.9  Sean Barton\n",
       "1  tt2081348  nm0059247   editor            4.1  Sean Barton\n",
       "2  tt1414378  nm0059247   editor            6.5  Sean Barton\n",
       "3  tt2712990  nm0059247   editor            5.6  Sean Barton\n",
       "4  tt2395207  nm0059247   editor            5.5  Sean Barton"
      ]
     },
     "execution_count": 53,
     "metadata": {},
     "output_type": "execute_result"
    }
   ],
   "source": [
    "df.head()"
   ]
  },
  {
   "cell_type": "markdown",
   "metadata": {},
   "source": [
    "**Getting down to business**"
   ]
  },
  {
   "cell_type": "markdown",
   "metadata": {},
   "source": [
    "We want to hire those who can potentially help us make movies that have good ratings<br>\n",
    "Let's have high standard! A good movie should have an average rating of at least 8"
   ]
  },
  {
   "cell_type": "code",
   "execution_count": 54,
   "metadata": {},
   "outputs": [],
   "source": [
    "df_good_rating = df[df.averagerating >= 8]"
   ]
  },
  {
   "cell_type": "markdown",
   "metadata": {},
   "source": [
    "We will only focus on actors, actresses, directors, and writers"
   ]
  },
  {
   "cell_type": "code",
   "execution_count": 55,
   "metadata": {},
   "outputs": [],
   "source": [
    "df_good_rating_cat = df_good_rating.groupby(\"category\")"
   ]
  },
  {
   "cell_type": "code",
   "execution_count": 56,
   "metadata": {},
   "outputs": [],
   "source": [
    "good_actors = list(df_good_rating_cat.get_group(\"actor\").primary_name)\n",
    "good_actors = list(set(good_actors))"
   ]
  },
  {
   "cell_type": "code",
   "execution_count": 57,
   "metadata": {},
   "outputs": [],
   "source": [
    "good_actresses = list(df_good_rating_cat.get_group(\"actress\").primary_name)\n",
    "good_actresses = list(set(good_actresses))"
   ]
  },
  {
   "cell_type": "code",
   "execution_count": 58,
   "metadata": {},
   "outputs": [],
   "source": [
    "good_directors = list(df_good_rating_cat.get_group(\"director\").primary_name)\n",
    "good_directors = list(set(good_directors))"
   ]
  },
  {
   "cell_type": "code",
   "execution_count": 59,
   "metadata": {},
   "outputs": [],
   "source": [
    "good_writers = list(df_good_rating_cat.get_group(\"writer\").primary_name)\n",
    "good_writers = list(set(good_writers))"
   ]
  },
  {
   "cell_type": "markdown",
   "metadata": {},
   "source": [
    "**Whom should we hire?**"
   ]
  },
  {
   "cell_type": "markdown",
   "metadata": {},
   "source": [
    "At this point, we have ourselves a list of good actors, a list of good actresses, a list of good directors, and a list of good writers. However, are they really good? Or are they just lucky?<br>\n",
    "Let us only consider hiring those who are consistenly sucessful.<br>\n",
    "More than 5 projects per portfolio is decent?!"
   ]
  },
  {
   "cell_type": "code",
   "execution_count": 60,
   "metadata": {},
   "outputs": [],
   "source": [
    "df_people = df.groupby(\"primary_name\")"
   ]
  },
  {
   "cell_type": "code",
   "execution_count": 61,
   "metadata": {},
   "outputs": [],
   "source": [
    "good_actors_new = []\n",
    "for person in good_actors:\n",
    "    if len(df_people.get_group(person)) > 5 and df_people.get_group(person).averagerating.mean() >= 8:\n",
    "        good_actors_new.append(person)"
   ]
  },
  {
   "cell_type": "code",
   "execution_count": 62,
   "metadata": {},
   "outputs": [],
   "source": [
    "good_actresses_new = []\n",
    "for person in good_actresses:\n",
    "    if len(df_people.get_group(person)) > 5 and df_people.get_group(person).averagerating.mean() >= 8:\n",
    "        good_actresses_new.append(person)"
   ]
  },
  {
   "cell_type": "code",
   "execution_count": 63,
   "metadata": {},
   "outputs": [],
   "source": [
    "good_directors_new = []\n",
    "for person in good_directors:\n",
    "    if len(df_people.get_group(person)) > 5 and df_people.get_group(person).averagerating.mean() >= 8:\n",
    "        good_directors_new.append(person)"
   ]
  },
  {
   "cell_type": "code",
   "execution_count": 64,
   "metadata": {},
   "outputs": [],
   "source": [
    "good_writers_new = []\n",
    "for person in good_writers:\n",
    "    if len(df_people.get_group(person)) > 5 and df_people.get_group(person).averagerating.mean() >= 8:\n",
    "        good_writers_new.append(person)"
   ]
  },
  {
   "cell_type": "markdown",
   "metadata": {},
   "source": [
    "And the winners are"
   ]
  },
  {
   "cell_type": "code",
   "execution_count": 65,
   "metadata": {},
   "outputs": [
    {
     "data": {
      "text/html": [
       "<div>\n",
       "<style scoped>\n",
       "    .dataframe tbody tr th:only-of-type {\n",
       "        vertical-align: middle;\n",
       "    }\n",
       "\n",
       "    .dataframe tbody tr th {\n",
       "        vertical-align: top;\n",
       "    }\n",
       "\n",
       "    .dataframe thead th {\n",
       "        text-align: right;\n",
       "    }\n",
       "</style>\n",
       "<table border=\"1\" class=\"dataframe\">\n",
       "  <thead>\n",
       "    <tr style=\"text-align: right;\">\n",
       "      <th></th>\n",
       "      <th>Actors</th>\n",
       "      <th>Actresses</th>\n",
       "      <th>Directors</th>\n",
       "      <th>Writers</th>\n",
       "    </tr>\n",
       "  </thead>\n",
       "  <tbody>\n",
       "    <tr>\n",
       "      <th>0</th>\n",
       "      <td>Michael Fleming</td>\n",
       "      <td>Sylvia Earle</td>\n",
       "      <td>Josh Lowell</td>\n",
       "      <td>Matt Lang</td>\n",
       "    </tr>\n",
       "    <tr>\n",
       "      <th>1</th>\n",
       "      <td>Thumindu Dodantenne</td>\n",
       "      <td>CC King</td>\n",
       "      <td>Pauli Janhunen Calderón</td>\n",
       "      <td>Eric Frith</td>\n",
       "    </tr>\n",
       "    <tr>\n",
       "      <th>2</th>\n",
       "      <td>Pauli Janhunen Calderón</td>\n",
       "      <td>Sargun Mehta</td>\n",
       "      <td>Dick Carruthers</td>\n",
       "      <td>Alvaro Calderón</td>\n",
       "    </tr>\n",
       "    <tr>\n",
       "      <th>3</th>\n",
       "      <td>Michael Henry</td>\n",
       "      <td>Susan Brown</td>\n",
       "      <td>Michael Henry</td>\n",
       "      <td>David Anghel</td>\n",
       "    </tr>\n",
       "    <tr>\n",
       "      <th>4</th>\n",
       "      <td>Joshua Bell</td>\n",
       "      <td>Lelani Mitchem</td>\n",
       "      <td>Joshua Bell</td>\n",
       "      <td>Brian Holden</td>\n",
       "    </tr>\n",
       "    <tr>\n",
       "      <th>5</th>\n",
       "      <td>Alvaro Calderón</td>\n",
       "      <td>Jayani Senanayake</td>\n",
       "      <td>Peter Mortimer</td>\n",
       "      <td>Darren Wilson</td>\n",
       "    </tr>\n",
       "    <tr>\n",
       "      <th>6</th>\n",
       "      <td>Alex Honnold</td>\n",
       "      <td>Lauren Lopez</td>\n",
       "      <td>Nick Rosen</td>\n",
       "      <td>Nick Rosen</td>\n",
       "    </tr>\n",
       "    <tr>\n",
       "      <th>7</th>\n",
       "      <td>Sserunya Ernest</td>\n",
       "      <td>None</td>\n",
       "      <td>Andrew Swant</td>\n",
       "      <td>None</td>\n",
       "    </tr>\n",
       "    <tr>\n",
       "      <th>8</th>\n",
       "      <td>Elton John</td>\n",
       "      <td>None</td>\n",
       "      <td>Nick Lang</td>\n",
       "      <td>None</td>\n",
       "    </tr>\n",
       "    <tr>\n",
       "      <th>9</th>\n",
       "      <td>Om Bhutkar</td>\n",
       "      <td>None</td>\n",
       "      <td>Tim Van Someren</td>\n",
       "      <td>None</td>\n",
       "    </tr>\n",
       "    <tr>\n",
       "      <th>10</th>\n",
       "      <td>Ian Cranston</td>\n",
       "      <td>None</td>\n",
       "      <td>Nabwana I.G.G.</td>\n",
       "      <td>None</td>\n",
       "    </tr>\n",
       "    <tr>\n",
       "      <th>11</th>\n",
       "      <td>Emilio Janhunen Calderón</td>\n",
       "      <td>None</td>\n",
       "      <td>Joe L. Roberts</td>\n",
       "      <td>None</td>\n",
       "    </tr>\n",
       "    <tr>\n",
       "      <th>12</th>\n",
       "      <td>Thom Keller</td>\n",
       "      <td>None</td>\n",
       "      <td>Tom Logan</td>\n",
       "      <td>None</td>\n",
       "    </tr>\n",
       "    <tr>\n",
       "      <th>13</th>\n",
       "      <td>Kalyan Chatterjee</td>\n",
       "      <td>None</td>\n",
       "      <td>Robin Lough</td>\n",
       "      <td>None</td>\n",
       "    </tr>\n",
       "    <tr>\n",
       "      <th>14</th>\n",
       "      <td>Timothy J. Cox</td>\n",
       "      <td>None</td>\n",
       "      <td>Christopher Kenneally</td>\n",
       "      <td>None</td>\n",
       "    </tr>\n",
       "    <tr>\n",
       "      <th>15</th>\n",
       "      <td>David Anghel</td>\n",
       "      <td>None</td>\n",
       "      <td>Ian Cranston</td>\n",
       "      <td>None</td>\n",
       "    </tr>\n",
       "    <tr>\n",
       "      <th>16</th>\n",
       "      <td>Darren Wilson</td>\n",
       "      <td>None</td>\n",
       "      <td>Brian Holden</td>\n",
       "      <td>None</td>\n",
       "    </tr>\n",
       "    <tr>\n",
       "      <th>17</th>\n",
       "      <td>Steve Ravic</td>\n",
       "      <td>None</td>\n",
       "      <td>Thom Zimny</td>\n",
       "      <td>None</td>\n",
       "    </tr>\n",
       "    <tr>\n",
       "      <th>18</th>\n",
       "      <td>None</td>\n",
       "      <td>None</td>\n",
       "      <td>Mat Hames</td>\n",
       "      <td>None</td>\n",
       "    </tr>\n",
       "    <tr>\n",
       "      <th>19</th>\n",
       "      <td>None</td>\n",
       "      <td>None</td>\n",
       "      <td>Christopher Nolan</td>\n",
       "      <td>None</td>\n",
       "    </tr>\n",
       "    <tr>\n",
       "      <th>20</th>\n",
       "      <td>None</td>\n",
       "      <td>None</td>\n",
       "      <td>Carlos Nader</td>\n",
       "      <td>None</td>\n",
       "    </tr>\n",
       "    <tr>\n",
       "      <th>21</th>\n",
       "      <td>None</td>\n",
       "      <td>None</td>\n",
       "      <td>Ali Shifau</td>\n",
       "      <td>None</td>\n",
       "    </tr>\n",
       "    <tr>\n",
       "      <th>22</th>\n",
       "      <td>None</td>\n",
       "      <td>None</td>\n",
       "      <td>Darren Wilson</td>\n",
       "      <td>None</td>\n",
       "    </tr>\n",
       "    <tr>\n",
       "      <th>23</th>\n",
       "      <td>None</td>\n",
       "      <td>None</td>\n",
       "      <td>Dawn Gifford Engle</td>\n",
       "      <td>None</td>\n",
       "    </tr>\n",
       "    <tr>\n",
       "      <th>24</th>\n",
       "      <td>None</td>\n",
       "      <td>None</td>\n",
       "      <td>Branko Istvancic</td>\n",
       "      <td>None</td>\n",
       "    </tr>\n",
       "    <tr>\n",
       "      <th>25</th>\n",
       "      <td>None</td>\n",
       "      <td>None</td>\n",
       "      <td>Nick Wickham</td>\n",
       "      <td>None</td>\n",
       "    </tr>\n",
       "    <tr>\n",
       "      <th>26</th>\n",
       "      <td>None</td>\n",
       "      <td>None</td>\n",
       "      <td>Steve Ravic</td>\n",
       "      <td>None</td>\n",
       "    </tr>\n",
       "    <tr>\n",
       "      <th>27</th>\n",
       "      <td>None</td>\n",
       "      <td>None</td>\n",
       "      <td>Ross MacGibbon</td>\n",
       "      <td>None</td>\n",
       "    </tr>\n",
       "  </tbody>\n",
       "</table>\n",
       "</div>"
      ],
      "text/plain": [
       "                      Actors          Actresses                Directors  \\\n",
       "0            Michael Fleming       Sylvia Earle              Josh Lowell   \n",
       "1        Thumindu Dodantenne            CC King  Pauli Janhunen Calderón   \n",
       "2    Pauli Janhunen Calderón       Sargun Mehta          Dick Carruthers   \n",
       "3              Michael Henry        Susan Brown            Michael Henry   \n",
       "4                Joshua Bell     Lelani Mitchem              Joshua Bell   \n",
       "5            Alvaro Calderón  Jayani Senanayake           Peter Mortimer   \n",
       "6               Alex Honnold       Lauren Lopez               Nick Rosen   \n",
       "7            Sserunya Ernest               None             Andrew Swant   \n",
       "8                 Elton John               None                Nick Lang   \n",
       "9                 Om Bhutkar               None          Tim Van Someren   \n",
       "10              Ian Cranston               None           Nabwana I.G.G.   \n",
       "11  Emilio Janhunen Calderón               None           Joe L. Roberts   \n",
       "12               Thom Keller               None                Tom Logan   \n",
       "13         Kalyan Chatterjee               None              Robin Lough   \n",
       "14            Timothy J. Cox               None    Christopher Kenneally   \n",
       "15              David Anghel               None             Ian Cranston   \n",
       "16             Darren Wilson               None             Brian Holden   \n",
       "17               Steve Ravic               None               Thom Zimny   \n",
       "18                      None               None                Mat Hames   \n",
       "19                      None               None        Christopher Nolan   \n",
       "20                      None               None             Carlos Nader   \n",
       "21                      None               None               Ali Shifau   \n",
       "22                      None               None            Darren Wilson   \n",
       "23                      None               None       Dawn Gifford Engle   \n",
       "24                      None               None         Branko Istvancic   \n",
       "25                      None               None             Nick Wickham   \n",
       "26                      None               None              Steve Ravic   \n",
       "27                      None               None           Ross MacGibbon   \n",
       "\n",
       "            Writers  \n",
       "0         Matt Lang  \n",
       "1        Eric Frith  \n",
       "2   Alvaro Calderón  \n",
       "3      David Anghel  \n",
       "4      Brian Holden  \n",
       "5     Darren Wilson  \n",
       "6        Nick Rosen  \n",
       "7              None  \n",
       "8              None  \n",
       "9              None  \n",
       "10             None  \n",
       "11             None  \n",
       "12             None  \n",
       "13             None  \n",
       "14             None  \n",
       "15             None  \n",
       "16             None  \n",
       "17             None  \n",
       "18             None  \n",
       "19             None  \n",
       "20             None  \n",
       "21             None  \n",
       "22             None  \n",
       "23             None  \n",
       "24             None  \n",
       "25             None  \n",
       "26             None  \n",
       "27             None  "
      ]
     },
     "execution_count": 65,
     "metadata": {},
     "output_type": "execute_result"
    }
   ],
   "source": [
    "df_hire = pd.DataFrame([good_actors_new, good_actresses_new, good_directors_new, good_writers_new])\n",
    "df_hire = df_hire.T\n",
    "df_hire.columns = [\"Actors\", \"Actresses\", \"Directors\", \"Writers\"]\n",
    "df_hire"
   ]
  }
 ],
 "metadata": {
  "kernelspec": {
   "display_name": "Python 3",
   "language": "python",
   "name": "python3"
  },
  "language_info": {
   "codemirror_mode": {
    "name": "ipython",
    "version": 3
   },
   "file_extension": ".py",
   "mimetype": "text/x-python",
   "name": "python",
   "nbconvert_exporter": "python",
   "pygments_lexer": "ipython3",
   "version": "3.7.3"
  }
 },
 "nbformat": 4,
 "nbformat_minor": 2
}
